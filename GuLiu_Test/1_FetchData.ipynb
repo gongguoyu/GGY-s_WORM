{
 "cells": [
  {
   "cell_type": "code",
   "execution_count": 2,
   "metadata": {
    "collapsed": false
   },
   "outputs": [
    {
     "name": "stdout",
     "output_type": "stream",
     "text": [
      "Sina_Finance_Comments_85C_20180823\n"
     ]
    }
   ],
   "source": [
    "root_name = 'Sina_Finance_Comments_85C_20180823'\n",
    "print(root_name)"
   ]
  },
  {
   "cell_type": "code",
   "execution_count": 3,
   "metadata": {
    "collapsed": false
   },
   "outputs": [
    {
     "data": {
      "text/html": [
       "<div>\n",
       "<style scoped>\n",
       "    .dataframe tbody tr th:only-of-type {\n",
       "        vertical-align: middle;\n",
       "    }\n",
       "\n",
       "    .dataframe tbody tr th {\n",
       "        vertical-align: top;\n",
       "    }\n",
       "\n",
       "    .dataframe thead th {\n",
       "        text-align: right;\n",
       "    }\n",
       "</style>\n",
       "<table border=\"1\" class=\"dataframe\">\n",
       "  <thead>\n",
       "    <tr style=\"text-align: right;\">\n",
       "      <th></th>\n",
       "      <th>page</th>\n",
       "      <th>jsons</th>\n",
       "      <th>cmntlist</th>\n",
       "      <th>replydict</th>\n",
       "    </tr>\n",
       "  </thead>\n",
       "  <tbody>\n",
       "    <tr>\n",
       "      <th>0</th>\n",
       "      <td>2</td>\n",
       "      <td>{'result': {'status': {'msg': '', 'code': 0}, ...</td>\n",
       "      <td>[{'comment_imgs': '', 'parent_mid': '0', 'news...</td>\n",
       "      <td>{'5B77E6D2-7139B7A2-48A9D835-901-868': [{'comm...</td>\n",
       "    </tr>\n",
       "    <tr>\n",
       "      <th>1</th>\n",
       "      <td>3</td>\n",
       "      <td>{'result': {'status': {'msg': '', 'code': 0}, ...</td>\n",
       "      <td>[{'comment_imgs': '', 'parent_mid': '0', 'news...</td>\n",
       "      <td>{'5B763717-DF685A7F-A114BB11-901-95C': [{'comm...</td>\n",
       "    </tr>\n",
       "    <tr>\n",
       "      <th>2</th>\n",
       "      <td>4</td>\n",
       "      <td>{'result': {'status': {'msg': '', 'code': 0}, ...</td>\n",
       "      <td>[{'comment_imgs': '', 'parent_mid': '0', 'news...</td>\n",
       "      <td>{'5B759F56-3D8DFC25-15590ED5C-901-853': [{'com...</td>\n",
       "    </tr>\n",
       "    <tr>\n",
       "      <th>3</th>\n",
       "      <td>5</td>\n",
       "      <td>{'result': {'status': {'msg': '', 'code': 0}, ...</td>\n",
       "      <td>[{'comment_imgs': '', 'parent_mid': '0', 'news...</td>\n",
       "      <td>{'5B75813E-705363E3-3E773C37-901-8A4': [{'comm...</td>\n",
       "    </tr>\n",
       "    <tr>\n",
       "      <th>4</th>\n",
       "      <td>6</td>\n",
       "      <td>{'result': {'status': {'msg': '', 'code': 0}, ...</td>\n",
       "      <td>[{'comment_imgs': '', 'parent_mid': '0', 'news...</td>\n",
       "      <td>{'5B755E0B-7AEE51FA-16BB08F9E-901-7DC': [{'com...</td>\n",
       "    </tr>\n",
       "    <tr>\n",
       "      <th>5</th>\n",
       "      <td>7</td>\n",
       "      <td>{'result': {'status': {'msg': '', 'code': 0}, ...</td>\n",
       "      <td>[{'comment_imgs': '', 'parent_mid': '0', 'news...</td>\n",
       "      <td>{}</td>\n",
       "    </tr>\n",
       "    <tr>\n",
       "      <th>6</th>\n",
       "      <td>8</td>\n",
       "      <td>{'result': {'status': {'msg': '', 'code': 0}, ...</td>\n",
       "      <td>[{'comment_imgs': '', 'parent_mid': '0', 'news...</td>\n",
       "      <td>{'5B751B67-B4AF7DDD-5CAE1673-901-834': [{'comm...</td>\n",
       "    </tr>\n",
       "    <tr>\n",
       "      <th>7</th>\n",
       "      <td>9</td>\n",
       "      <td>{'result': {'status': {'msg': '', 'code': 0}, ...</td>\n",
       "      <td>[{'comment_imgs': '', 'parent_mid': '0', 'news...</td>\n",
       "      <td>{'5B75110B-6551E693-163C6A453-901-7AC': [{'com...</td>\n",
       "    </tr>\n",
       "    <tr>\n",
       "      <th>8</th>\n",
       "      <td>10</td>\n",
       "      <td>{'result': {'status': {'msg': '', 'code': 0}, ...</td>\n",
       "      <td>[{'comment_imgs': '', 'parent_mid': '0', 'news...</td>\n",
       "      <td>{}</td>\n",
       "    </tr>\n",
       "    <tr>\n",
       "      <th>9</th>\n",
       "      <td>11</td>\n",
       "      <td>{'result': {'status': {'msg': '', 'code': 0}, ...</td>\n",
       "      <td>[]</td>\n",
       "      <td>{}</td>\n",
       "    </tr>\n",
       "  </tbody>\n",
       "</table>\n",
       "</div>"
      ],
      "text/plain": [
       "   page                                              jsons  \\\n",
       "0     2  {'result': {'status': {'msg': '', 'code': 0}, ...   \n",
       "1     3  {'result': {'status': {'msg': '', 'code': 0}, ...   \n",
       "2     4  {'result': {'status': {'msg': '', 'code': 0}, ...   \n",
       "3     5  {'result': {'status': {'msg': '', 'code': 0}, ...   \n",
       "4     6  {'result': {'status': {'msg': '', 'code': 0}, ...   \n",
       "5     7  {'result': {'status': {'msg': '', 'code': 0}, ...   \n",
       "6     8  {'result': {'status': {'msg': '', 'code': 0}, ...   \n",
       "7     9  {'result': {'status': {'msg': '', 'code': 0}, ...   \n",
       "8    10  {'result': {'status': {'msg': '', 'code': 0}, ...   \n",
       "9    11  {'result': {'status': {'msg': '', 'code': 0}, ...   \n",
       "\n",
       "                                            cmntlist  \\\n",
       "0  [{'comment_imgs': '', 'parent_mid': '0', 'news...   \n",
       "1  [{'comment_imgs': '', 'parent_mid': '0', 'news...   \n",
       "2  [{'comment_imgs': '', 'parent_mid': '0', 'news...   \n",
       "3  [{'comment_imgs': '', 'parent_mid': '0', 'news...   \n",
       "4  [{'comment_imgs': '', 'parent_mid': '0', 'news...   \n",
       "5  [{'comment_imgs': '', 'parent_mid': '0', 'news...   \n",
       "6  [{'comment_imgs': '', 'parent_mid': '0', 'news...   \n",
       "7  [{'comment_imgs': '', 'parent_mid': '0', 'news...   \n",
       "8  [{'comment_imgs': '', 'parent_mid': '0', 'news...   \n",
       "9                                                 []   \n",
       "\n",
       "                                           replydict  \n",
       "0  {'5B77E6D2-7139B7A2-48A9D835-901-868': [{'comm...  \n",
       "1  {'5B763717-DF685A7F-A114BB11-901-95C': [{'comm...  \n",
       "2  {'5B759F56-3D8DFC25-15590ED5C-901-853': [{'com...  \n",
       "3  {'5B75813E-705363E3-3E773C37-901-8A4': [{'comm...  \n",
       "4  {'5B755E0B-7AEE51FA-16BB08F9E-901-7DC': [{'com...  \n",
       "5                                                 {}  \n",
       "6  {'5B751B67-B4AF7DDD-5CAE1673-901-834': [{'comm...  \n",
       "7  {'5B75110B-6551E693-163C6A453-901-7AC': [{'com...  \n",
       "8                                                 {}  \n",
       "9                                                 {}  "
      ]
     },
     "execution_count": 3,
     "metadata": {},
     "output_type": "execute_result"
    }
   ],
   "source": [
    "import pandas as pd\n",
    "df = pd.read_csv(root_name+'.csv',encoding='utf-8')\n",
    "df.head(10)"
   ]
  },
  {
   "cell_type": "code",
   "execution_count": 4,
   "metadata": {
    "collapsed": false,
    "scrolled": true
   },
   "outputs": [
    {
     "name": "stdout",
     "output_type": "stream",
     "text": [
      "13\n",
      "<class 'str'>\n",
      "[{'comment_imgs': ''\n"
     ]
    }
   ],
   "source": [
    "cmntlist = df.cmntlist.values.tolist()\n",
    "print(len(cmntlist))\n",
    "print(type(cmntlist[0])) # str 字符串格式\n",
    "print(cmntlist[0][0:20]) # 截取前200字符展示"
   ]
  },
  {
   "cell_type": "code",
   "execution_count": 5,
   "metadata": {
    "collapsed": false,
    "scrolled": true
   },
   "outputs": [
    {
     "name": "stdout",
     "output_type": "stream",
     "text": [
      "13\n",
      "<class 'str'>\n",
      "{'5B77E6D2-7139B7A2-48A9D835-901-868': [{'comment_imgs': '', 'parent_mid': '0', 'news_mid_source': '0', 'rank': '0', 'mid': '5B761214-DAC72BF0-48A9D835-901-868', 'video': '', 'vote': '0', 'uid': '1219090485', 'area': '湖北武汉', 'channel_source': '', 'content': '这个店口味还行，不过短期内是不会再去了。当然并非出于爱国，只是比较懒不想跑[二哈][二哈][二哈]', 'nick': '双面H', 'hot': '0', 'status_uid': '2462605080', 'content_ext': '', 'ip': '218.199.43.240', 'media_type': '0', 'config': 'wb_verified=0&wb_screen_name=双面H&wb_cmnt_type=comment_status&wb_user_id=1219090485&wb_description=&area=湖北武汉&wb_parent=&wb_profile_img=http%3A%2F%2Ftva1.sinaimg.cn%2Fcrop.0.0.540.540.50%2F48a9d835jw8ewnc0j9msgj20f00f03zh.jpg&wb_time=2018-08-17 08:08:44&wb_comment_id=4273916345902184', 'channel': 'cj', 'comment_mid': '0', 'status': 'M_PASWAIT', 'openid': '', 'newsid_source': '', 'parent': '', 'status_cmnt_mid': '4273916345902184', 'parent_profile_img': '', 'news_mid': '0', 'parent_nick': '', 'newsid': 'comos-hhvciiv7815535', 'parent_uid': '0', 'thread_mid': '0', 'thread': '', 'level': '0', 'against': '1534464534', 'usertype': 'wb', 'length': '49', 'profile_img': 'http://tva1.sinaimg.cn/crop.0.0.540.540.50/48a9d835jw8ewnc0j9msgj20f00f03zh.jpg', 'time': '2018-08-17 08:08:54', 'login_type': '0', 'audio': '', 'agree': '0'}, {'comment_imgs': '', 'parent_mid': '0', 'news_mid_source': '0', 'rank': '0', 'mid': '5B77A126-7588294E-9E76B555-901-904', 'video': '', 'vote': '0', 'uid': '2658579797', 'area': '广东广州', 'channel_source': '', 'content': '这样也不能显出你突出，幼稚', 'nick': '半月kodachi', 'hot': '0', 'status_uid': '2462605080', 'content_ext': '', 'ip': '117.136.41.78', 'media_type': '0', 'config': 'wb_verified=0&wb_screen_name=半月kodachi&wb_cmnt_type=comment_status&wb_user_id=2658579797&wb_description=&area=广东广州&wb_parent=&wb_profile_img=http%3A%2F%2Ftva2.sinaimg.cn%2Fcrop.0.0.180.180.50%2F9e76b555jw8e7cxmgk7ktj2050050aa0.jpg&wb_time=2018-08-18 12:31:32&wb_comment_id=4274344866009449&p_nick=双面H&p_uid=1219090485', 'channel': 'cj', 'comment_mid': '0', 'status': 'M_PASWAIT', 'openid': '', 'newsid_source': '', 'parent': '5B761214-DAC72BF0-48A9D835-901-868', 'status_cmnt_mid': '4274344866009449', 'parent_profile_img': 'http://tva1.sinaimg.cn/crop.0.0.540.540.50/48a9d835jw8ewnc0j9msgj20f00f03zh.jpg', 'news_mid': '0', 'parent_nick': '双面H', 'newsid': 'comos-hhvciiv7815535', 'parent_uid': '1219090485', 'thread_mid': '0', 'thread': '5B761214-DAC72BF0-48A9D835-901-868', 'level': '1', 'against': '1534566696', 'usertype': 'wb', 'length': '20', 'profile_img': 'http://tva2.sinaimg.cn/crop.0.0.180.180.50/9e76b555jw8e7cxmgk7ktj2050050aa0.jpg', 'time': '2018-08-18 12:31:36', 'login_type': '0', 'audio': '', 'agree': '0'}], '5B7B7F8F-DAC72BC5-48A9D835-901-868': [{'comment_imgs': '', 'parent_mid': '0', 'news_mid_source': '0', 'rank': '0', 'mid': '5B761214-DAC72BF0-48A9D835-901-868', 'video': '', 'vote': '0', 'uid': '1219090485', 'area': '湖北武汉', 'channel_source': '', 'content': '这个店口味还行，不过短期内是不会再去了。当然并非出于爱国，只是比较懒不想跑[二哈][二哈][二哈]', 'nick': '双面H', 'hot': '0', 'status_uid': '2462605080', 'content_ext': '', 'ip': '218.199.43.240', 'media_type': '0', 'config': 'wb_verified=0&wb_screen_name=双面H&wb_cmnt_type=comment_status&wb_user_id=1219090485&wb_description=&area=湖北武汉&wb_parent=&wb_profile_img=http%3A%2F%2Ftva1.sinaimg.cn%2Fcrop.0.0.540.540.50%2F48a9d835jw8ewnc0j9msgj20f00f03zh.jpg&wb_time=2018-08-17 08:08:44&wb_comment_id=4273916345902184', 'channel': 'cj', 'comment_mid': '0', 'status': 'M_PASWAIT', 'openid': '', 'newsid_source': '', 'parent': '', 'status_cmnt_mid': '4273916345902184', 'parent_profile_img': '', 'news_mid': '0', 'parent_nick': '', 'newsid': 'comos-hhvciiv7815535', 'parent_uid': '0', 'thread_mid': '0', 'thread': '', 'level': '0', 'against': '1534464534', 'usertype': 'wb', 'length': '49', 'profile_img': 'http://tva1.sinaimg.cn/crop.0.0.540.540.50/48a9d835jw8ewnc0j9msgj20f00f03zh.jpg', 'time': '2018-08-17 08:08:54', 'login_type': '0', 'audio': '', 'agree': '0'}, {'comment_imgs': '', 'parent_mid': '0', 'news_mid_source': '0', 'rank': '0', 'mid': '5B77A126-7588294E-9E76B555-901-904', 'video': '', 'vote': '0', 'uid': '2658579797', 'area': '广东广州', 'channel_source': '', 'content': '这样也不能显出你突出，幼稚', 'nick': '半月kodachi', 'hot': '0', 'status_uid': '2462605080', 'content_ext': '', 'ip': '117.136.41.78', 'media_type': '0', 'config': 'wb_verified=0&wb_screen_name=半月kodachi&wb_cmnt_type=comment_status&wb_user_id=2658579797&wb_description=&area=广东广州&wb_parent=&wb_profile_img=http%3A%2F%2Ftva2.sinaimg.cn%2Fcrop.0.0.180.180.50%2F9e76b555jw8e7cxmgk7ktj2050050aa0.jpg&wb_time=2018-08-18 12:31:32&wb_comment_id=4274344866009449&p_nick=双面H&p_uid=1219090485', 'channel': 'cj', 'comment_mid': '0', 'status': 'M_PASWAIT', 'openid': '', 'newsid_source': '', 'parent': '5B761214-DAC72BF0-48A9D835-901-868', 'status_cmnt_mid': '4274344866009449', 'parent_profile_img': 'http://tva1.sinaimg.cn/crop.0.0.540.540.50/48a9d835jw8ewnc0j9msgj20f00f03zh.jpg', 'news_mid': '0', 'parent_nick': '双面H', 'newsid': 'comos-hhvciiv7815535', 'parent_uid': '1219090485', 'thread_mid': '0', 'thread': '5B761214-DAC72BF0-48A9D835-901-868', 'level': '1', 'against': '1534566696', 'usertype': 'wb', 'length': '20', 'profile_img': 'http://tva2.sinaimg.cn/crop.0.0.180.180.50/9e76b555jw8e7cxmgk7ktj2050050aa0.jpg', 'time': '2018-08-18 12:31:36', 'login_type': '0', 'audio': '', 'agree': '0'}, {'comment_imgs': '', 'parent_mid': '0', 'news_mid_source': '0', 'rank': '0', 'mid': '5B77E6D2-7139B7A2-48A9D835-901-868', 'video': '', 'vote': '0', 'uid': '1219090485', 'area': '湖北武汉', 'channel_source': '', 'content': '回复 @半月kodachi:我纯粹是因为距离远懒得跑。你又在秀什么存在感。', 'nick': '双面H', 'hot': '0', 'status_uid': '2462605080', 'content_ext': '', 'ip': '113.57.183.162', 'media_type': '0', 'config': 'wb_verified=0&wb_screen_name=双面H&wb_cmnt_type=comment_status&wb_user_id=1219090485&wb_description=&area=湖北武汉&wb_parent=&wb_profile_img=http%3A%2F%2Ftva1.sinaimg.cn%2Fcrop.0.0.540.540.50%2F48a9d835jw8ewnc0j9msgj20f00f03zh.jpg&wb_time=2018-08-18 17:28:41&wb_comment_id=4274419646145182&p_nick=半月kodachi&p_uid=2658579797', 'channel': 'cj', 'comment_mid': '0', 'status': 'M_PASWAIT', 'openid': '', 'newsid_source': '', 'parent': '5B77A126-7588294E-9E76B555-901-904', 'status_cmnt_mid': '4274419646145182', 'parent_profile_img': 'http://tva2.sinaimg.cn/crop.0.0.180.180.50/9e76b555jw8e7cxmgk7ktj2050050aa0.jpg', 'news_mid': '0', 'parent_nick': '半月kodachi', 'newsid': 'comos-hhvciiv7815535', 'parent_uid': '2658579797', 'thread_mid': '0', 'thread': '5B761214-DAC72BF0-48A9D835-901-868', 'level': '2', 'against': '1534584534', 'usertype': 'wb', 'length': '37', 'profile_img': 'http://tva1.sinaimg.cn/crop.0.0.540.540.50/48a9d835jw8ewnc0j9msgj20f00f03zh.jpg', 'time': '2018-08-18 17:28:55', 'login_type': '0', 'audio': '', 'agree': '0'}, {'comment_imgs': '', 'parent_mid': '0', 'news_mid_source': '0', 'rank': '0', 'mid': '5B7AACD0-DF683F5A-9E76B555-901-904', 'video': '', 'vote': '0', 'uid': '2658579797', 'area': '广东', 'channel_source': '', 'content': '我不需要存在感。幼稚', 'nick': '半月kodachi', 'hot': '0', 'status_uid': '2462605080', 'content_ext': '', 'ip': '223.104.63.90', 'media_type': '0', 'config': 'wb_verified=0&wb_screen_name=半月kodachi&wb_cmnt_type=comment_status&wb_user_id=2658579797&wb_description=&area=广东&wb_parent=&wb_profile_img=http%3A%2F%2Ftva2.sinaimg.cn%2Fcrop.0.0.180.180.50%2F9e76b555jw8e7cxmgk7ktj2050050aa0.jpg&wb_time=2018-08-20 19:58:04&wb_comment_id=4275182015164981&p_nick=双面H&p_uid=1219090485', 'channel': 'cj', 'comment_mid': '0', 'status': 'M_PASWAIT', 'openid': '', 'newsid_source': '', 'parent': '5B77E6D2-7139B7A2-48A9D835-901-868', 'status_cmnt_mid': '4275182015164981', 'parent_profile_img': 'http://tva1.sinaimg.cn/crop.0.0.540.540.50/48a9d835jw8ewnc0j9msgj20f00f03zh.jpg', 'news_mid': '0', 'parent_nick': '双面H', 'newsid': 'comos-hhvciiv7815535', 'parent_uid': '1219090485', 'thread_mid': '0', 'thread': '5B761214-DAC72BF0-48A9D835-901-868', 'level': '3', 'against': '1534766288', 'usertype': 'wb', 'length': '17', 'profile_img': 'http://tva2.sinaimg.cn/crop.0.0.180.180.50/9e76b555jw8e7cxmgk7ktj2050050aa0.jpg', 'time': '2018-08-20 19:58:08', 'login_type': '0', 'audio': '', 'agree': '0'}, {'comment_imgs': '', 'parent_mid': '0', 'news_mid_source': '0', 'rank': '0', 'mid': '5B7AC164-DAC72BC5-48A9D835-901-868', 'video': '', 'vote': '0', 'uid': '1219090485', 'area': '湖北武汉', 'channel_source': '', 'content': '回复 @半月kodachi:那你蹦跶出来文不对题是干嘛？智商水平所致？那倒是说得通。', 'nick': '双面H', 'hot': '0', 'status_uid': '2462605080', 'content_ext': '', 'ip': '218.199.43.197', 'media_type': '0', 'config': 'wb_verified=0&wb_screen_name=双面H&wb_cmnt_type=comment_status&wb_user_id=1219090485&wb_description=&area=湖北武汉&wb_parent=&wb_profile_img=http%3A%2F%2Ftva1.sinaimg.cn%2Fcrop.0.0.540.540.50%2F48a9d835jw8ewnc0j9msgj20f00f03zh.jpg&wb_time=2018-08-20 21:25:41&wb_comment_id=4275204064347828&p_nick=半月kodachi&p_uid=2658579797', 'channel': 'cj', 'comment_mid': '0', 'status': 'M_PASWAIT', 'openid': '', 'newsid_source': '', 'parent': '5B7AACD0-DF683F5A-9E76B555-901-904', 'status_cmnt_mid': '4275204064347828', 'parent_profile_img': 'http://tva2.sinaimg.cn/crop.0.0.180.180.50/9e76b555jw8e7cxmgk7ktj2050050aa0.jpg', 'news_mid': '0', 'parent_nick': '半月kodachi', 'newsid': 'comos-hhvciiv7815535', 'parent_uid': '2658579797', 'thread_mid': '0', 'thread': '5B761214-DAC72BF0-48A9D835-901-868', 'level': '4', 'against': '1534771556', 'usertype': 'wb', 'length': '42', 'profile_img': 'http://tva1.sinaimg.cn/crop.0.0.540.540.50/48a9d835jw8ewnc0j9msgj20f00f03zh.jpg', 'time': '2018-08-20 21:25:56', 'login_type': '0', 'audio': '', 'agree': '0'}, {'comment_imgs': '', 'parent_mid': '0', 'news_mid_source': '0', 'rank': '0', 'mid': '5B7B7D0E-75882932-9E76B555-901-904', 'video': '', 'vote': '0', 'uid': '2658579797', 'area': '广东广州', 'channel_source': '', 'content': '没人在乎你，即使你假装自己和别人不一样。但是你年轻，思想不成型。幼稚。', 'nick': '半月kodachi', 'hot': '0', 'status_uid': '2462605080', 'content_ext': '', 'ip': '117.136.41.50', 'media_type': '0', 'config': 'wb_verified=0&wb_screen_name=半月kodachi&wb_cmnt_type=comment_status&wb_user_id=2658579797&wb_description=&area=广东广州&wb_parent=&wb_profile_img=http%3A%2F%2Ftva2.sinaimg.cn%2Fcrop.0.0.180.180.50%2F9e76b555jw8e7cxmgk7ktj2050050aa0.jpg&wb_time=2018-08-21 10:46:20&wb_comment_id=4275405554971692&p_nick=双面H&p_uid=1219090485', 'channel': 'cj', 'comment_mid': '0', 'status': 'M_PASWAIT', 'openid': '', 'newsid_source': '', 'parent': '5B7AC164-DAC72BC5-48A9D835-901-868', 'status_cmnt_mid': '4275405554971692', 'parent_profile_img': 'http://tva1.sinaimg.cn/crop.0.0.540.540.50/48a9d835jw8ewnc0j9msgj20f00f03zh.jpg', 'news_mid': '0', 'parent_nick': '双面H', 'newsid': 'comos-hhvciiv7815535', 'parent_uid': '1219090485', 'thread_mid': '0', 'thread': '5B761214-DAC72BF0-48A9D835-901-868', 'level': '5', 'against': '1534819601', 'usertype': 'wb', 'length': '42', 'profile_img': 'http://tva2.sinaimg.cn/crop.0.0.180.180.50/9e76b555jw8e7cxmgk7ktj2050050aa0.jpg', 'time': '2018-08-21 10:46:42', 'login_type': '0', 'audio': '', 'agree': '0'}], '5B77A126-7588294E-9E76B555-901-904': [{'comment_imgs': '', 'parent_mid': '0', 'news_mid_source': '0', 'rank': '0', 'mid': '5B761214-DAC72BF0-48A9D835-901-868', 'video': '', 'vote': '0', 'uid': '1219090485', 'area': '湖北武汉', 'channel_source': '', 'content': '这个店口味还行，不过短期内是不会再去了。当然并非出于爱国，只是比较懒不想跑[二哈][二哈][二哈]', 'nick': '双面H', 'hot': '0', 'status_uid': '2462605080', 'content_ext': '', 'ip': '218.199.43.240', 'media_type': '0', 'config': 'wb_verified=0&wb_screen_name=双面H&wb_cmnt_type=comment_status&wb_user_id=1219090485&wb_description=&area=湖北武汉&wb_parent=&wb_profile_img=http%3A%2F%2Ftva1.sinaimg.cn%2Fcrop.0.0.540.540.50%2F48a9d835jw8ewnc0j9msgj20f00f03zh.jpg&wb_time=2018-08-17 08:08:44&wb_comment_id=4273916345902184', 'channel': 'cj', 'comment_mid': '0', 'status': 'M_PASWAIT', 'openid': '', 'newsid_source': '', 'parent': '', 'status_cmnt_mid': '4273916345902184', 'parent_profile_img': '', 'news_mid': '0', 'parent_nick': '', 'newsid': 'comos-hhvciiv7815535', 'parent_uid': '0', 'thread_mid': '0', 'thread': '', 'level': '0', 'against': '1534464534', 'usertype': 'wb', 'length': '49', 'profile_img': 'http://tva1.sinaimg.cn/crop.0.0.540.540.50/48a9d835jw8ewnc0j9msgj20f00f03zh.jpg', 'time': '2018-08-17 08:08:54', 'login_type': '0', 'audio': '', 'agree': '0'}], '5B7BD4F4-3B479795-48A9D835-901-868': [{'comment_imgs': '', 'parent_mid': '0', 'news_mid_source': '0', 'rank': '0', 'mid': '5B761214-DAC72BF0-48A9D835-901-868', 'video': '', 'vote': '0', 'uid': '1219090485', 'area': '湖北武汉', 'channel_source': '', 'content': '这个店口味还行，不过短期内是不会再去了。当然并非出于爱国，只是比较懒不想跑[二哈][二哈][二哈]', 'nick': '双面H', 'hot': '0', 'status_uid': '2462605080', 'content_ext': '', 'ip': '218.199.43.240', 'media_type': '0', 'config': 'wb_verified=0&wb_screen_name=双面H&wb_cmnt_type=comment_status&wb_user_id=1219090485&wb_description=&area=湖北武汉&wb_parent=&wb_profile_img=http%3A%2F%2Ftva1.sinaimg.cn%2Fcrop.0.0.540.540.50%2F48a9d835jw8ewnc0j9msgj20f00f03zh.jpg&wb_time=2018-08-17 08:08:44&wb_comment_id=4273916345902184', 'channel': 'cj', 'comment_mid': '0', 'status': 'M_PASWAIT', 'openid': '', 'newsid_source': '', 'parent': '', 'status_cmnt_mid': '4273916345902184', 'parent_profile_img': '', 'news_mid': '0', 'parent_nick': '', 'newsid': 'comos-hhvciiv7815535', 'parent_uid': '0', 'thread_mid': '0', 'thread': '', 'level': '0', 'against': '1534464534', 'usertype': 'wb', 'length': '49', 'profile_img': 'http://tva1.sinaimg.cn/crop.0.0.540.540.50/48a9d835jw8ewnc0j9msgj20f00f03zh.jpg', 'time': '2018-08-17 08:08:54', 'login_type': '0', 'audio': '', 'agree': '0'}, {'comment_imgs': '', 'parent_mid': '0', 'news_mid_source': '0', 'rank': '0', 'mid': '5B77A126-7588294E-9E76B555-901-904', 'video': '', 'vote': '0', 'uid': '2658579797', 'area': '广东广州', 'channel_source': '', 'content': '这样也不能显出你突出，幼稚', 'nick': '半月kodachi', 'hot': '0', 'status_uid': '2462605080', 'content_ext': '', 'ip': '117.136.41.78', 'media_type': '0', 'config': 'wb_verified=0&wb_screen_name=半月kodachi&wb_cmnt_type=comment_status&wb_user_id=2658579797&wb_description=&area=广东广州&wb_parent=&wb_profile_img=http%3A%2F%2Ftva2.sinaimg.cn%2Fcrop.0.0.180.180.50%2F9e76b555jw8e7cxmgk7ktj2050050aa0.jpg&wb_time=2018-08-18 12:31:32&wb_comment_id=4274344866009449&p_nick=双面H&p_uid=1219090485', 'channel': 'cj', 'comment_mid': '0', 'status': 'M_PASWAIT', 'openid': '', 'newsid_source': '', 'parent': '5B761214-DAC72BF0-48A9D835-901-868', 'status_cmnt_mid': '4274344866009449', 'parent_profile_img': 'http://tva1.sinaimg.cn/crop.0.0.540.540.50/48a9d835jw8ewnc0j9msgj20f00f03zh.jpg', 'news_mid': '0', 'parent_nick': '双面H', 'newsid': 'comos-hhvciiv7815535', 'parent_uid': '1219090485', 'thread_mid': '0', 'thread': '5B761214-DAC72BF0-48A9D835-901-868', 'level': '1', 'against': '1534566696', 'usertype': 'wb', 'length': '20', 'profile_img': 'http://tva2.sinaimg.cn/crop.0.0.180.180.50/9e76b555jw8e7cxmgk7ktj2050050aa0.jpg', 'time': '2018-08-18 12:31:36', 'login_type': '0', 'audio': '', 'agree': '0'}, {'comment_imgs': '', 'parent_mid': '0', 'news_mid_source': '0', 'rank': '0', 'mid': '5B77E6D2-7139B7A2-48A9D835-901-868', 'video': '', 'vote': '0', 'uid': '1219090485', 'area': '湖北武汉', 'channel_source': '', 'content': '回复 @半月kodachi:我纯粹是因为距离远懒得跑。你又在秀什么存在感。', 'nick': '双面H', 'hot': '0', 'status_uid': '2462605080', 'content_ext': '', 'ip': '113.57.183.162', 'media_type': '0', 'config': 'wb_verified=0&wb_screen_name=双面H&wb_cmnt_type=comment_status&wb_user_id=1219090485&wb_description=&area=湖北武汉&wb_parent=&wb_profile_img=http%3A%2F%2Ftva1.sinaimg.cn%2Fcrop.0.0.540.540.50%2F48a9d835jw8ewnc0j9msgj20f00f03zh.jpg&wb_time=2018-08-18 17:28:41&wb_comment_id=4274419646145182&p_nick=半月kodachi&p_uid=2658579797', 'channel': 'cj', 'comment_mid': '0', 'status': 'M_PASWAIT', 'openid': '', 'newsid_source': '', 'parent': '5B77A126-7588294E-9E76B555-901-904', 'status_cmnt_mid': '4274419646145182', 'parent_profile_img': 'http://tva2.sinaimg.cn/crop.0.0.180.180.50/9e76b555jw8e7cxmgk7ktj2050050aa0.jpg', 'news_mid': '0', 'parent_nick': '半月kodachi', 'newsid': 'comos-hhvciiv7815535', 'parent_uid': '2658579797', 'thread_mid': '0', 'thread': '5B761214-DAC72BF0-48A9D835-901-868', 'level': '2', 'against': '1534584534', 'usertype': 'wb', 'length': '37', 'profile_img': 'http://tva1.sinaimg.cn/crop.0.0.540.540.50/48a9d835jw8ewnc0j9msgj20f00f03zh.jpg', 'time': '2018-08-18 17:28:55', 'login_type': '0', 'audio': '', 'agree': '0'}, {'comment_imgs': '', 'parent_mid': '0', 'news_mid_source': '0', 'rank': '0', 'mid': '5B7AACD0-DF683F5A-9E76B555-901-904', 'video': '', 'vote': '0', 'uid': '2658579797', 'area': '广东', 'channel_source': '', 'content': '我不需要存在感。幼稚', 'nick': '半月kodachi', 'hot': '0', 'status_uid': '2462605080', 'content_ext': '', 'ip': '223.104.63.90', 'media_type': '0', 'config': 'wb_verified=0&wb_screen_name=半月kodachi&wb_cmnt_type=comment_status&wb_user_id=2658579797&wb_description=&area=广东&wb_parent=&wb_profile_img=http%3A%2F%2Ftva2.sinaimg.cn%2Fcrop.0.0.180.180.50%2F9e76b555jw8e7cxmgk7ktj2050050aa0.jpg&wb_time=2018-08-20 19:58:04&wb_comment_id=4275182015164981&p_nick=双面H&p_uid=1219090485', 'channel': 'cj', 'comment_mid': '0', 'status': 'M_PASWAIT', 'openid': '', 'newsid_source': '', 'parent': '5B77E6D2-7139B7A2-48A9D835-901-868', 'status_cmnt_mid': '4275182015164981', 'parent_profile_img': 'http://tva1.sinaimg.cn/crop.0.0.540.540.50/48a9d835jw8ewnc0j9msgj20f00f03zh.jpg', 'news_mid': '0', 'parent_nick': '双面H', 'newsid': 'comos-hhvciiv7815535', 'parent_uid': '1219090485', 'thread_mid': '0', 'thread': '5B761214-DAC72BF0-48A9D835-901-868', 'level': '3', 'against': '1534766288', 'usertype': 'wb', 'length': '17', 'profile_img': 'http://tva2.sinaimg.cn/crop.0.0.180.180.50/9e76b555jw8e7cxmgk7ktj2050050aa0.jpg', 'time': '2018-08-20 19:58:08', 'login_type': '0', 'audio': '', 'agree': '0'}, {'comment_imgs': '', 'parent_mid': '0', 'news_mid_source': '0', 'rank': '0', 'mid': '5B7AC164-DAC72BC5-48A9D835-901-868', 'video': '', 'vote': '0', 'uid': '1219090485', 'area': '湖北武汉', 'channel_source': '', 'content': '回复 @半月kodachi:那你蹦跶出来文不对题是干嘛？智商水平所致？那倒是说得通。', 'nick': '双面H', 'hot': '0', 'status_uid': '2462605080', 'content_ext': '', 'ip': '218.199.43.197', 'media_type': '0', 'config': 'wb_verified=0&wb_screen_name=双面H&wb_cmnt_type=comment_status&wb_user_id=1219090485&wb_description=&area=湖北武汉&wb_parent=&wb_profile_img=http%3A%2F%2Ftva1.sinaimg.cn%2Fcrop.0.0.540.540.50%2F48a9d835jw8ewnc0j9msgj20f00f03zh.jpg&wb_time=2018-08-20 21:25:41&wb_comment_id=4275204064347828&p_nick=半月kodachi&p_uid=2658579797', 'channel': 'cj', 'comment_mid': '0', 'status': 'M_PASWAIT', 'openid': '', 'newsid_source': '', 'parent': '5B7AACD0-DF683F5A-9E76B555-901-904', 'status_cmnt_mid': '4275204064347828', 'parent_profile_img': 'http://tva2.sinaimg.cn/crop.0.0.180.180.50/9e76b555jw8e7cxmgk7ktj2050050aa0.jpg', 'news_mid': '0', 'parent_nick': '半月kodachi', 'newsid': 'comos-hhvciiv7815535', 'parent_uid': '2658579797', 'thread_mid': '0', 'thread': '5B761214-DAC72BF0-48A9D835-901-868', 'level': '4', 'against': '1534771556', 'usertype': 'wb', 'length': '42', 'profile_img': 'http://tva1.sinaimg.cn/crop.0.0.540.540.50/48a9d835jw8ewnc0j9msgj20f00f03zh.jpg', 'time': '2018-08-20 21:25:56', 'login_type': '0', 'audio': '', 'agree': '0'}, {'comment_imgs': '', 'parent_mid': '0', 'news_mid_source': '0', 'rank': '0', 'mid': '5B7B7D0E-75882932-9E76B555-901-904', 'video': '', 'vote': '0', 'uid': '2658579797', 'area': '广东广州', 'channel_source': '', 'content': '没人在乎你，即使你假装自己和别人不一样。但是你年轻，思想不成型。幼稚。', 'nick': '半月kodachi', 'hot': '0', 'status_uid': '2462605080', 'content_ext': '', 'ip': '117.136.41.50', 'media_type': '0', 'config': 'wb_verified=0&wb_screen_name=半月kodachi&wb_cmnt_type=comment_status&wb_user_id=2658579797&wb_description=&area=广东广州&wb_parent=&wb_profile_img=http%3A%2F%2Ftva2.sinaimg.cn%2Fcrop.0.0.180.180.50%2F9e76b555jw8e7cxmgk7ktj2050050aa0.jpg&wb_time=2018-08-21 10:46:20&wb_comment_id=4275405554971692&p_nick=双面H&p_uid=1219090485', 'channel': 'cj', 'comment_mid': '0', 'status': 'M_PASWAIT', 'openid': '', 'newsid_source': '', 'parent': '5B7AC164-DAC72BC5-48A9D835-901-868', 'status_cmnt_mid': '4275405554971692', 'parent_profile_img': 'http://tva1.sinaimg.cn/crop.0.0.540.540.50/48a9d835jw8ewnc0j9msgj20f00f03zh.jpg', 'news_mid': '0', 'parent_nick': '双面H', 'newsid': 'comos-hhvciiv7815535', 'parent_uid': '1219090485', 'thread_mid': '0', 'thread': '5B761214-DAC72BF0-48A9D835-901-868', 'level': '5', 'against': '1534819601', 'usertype': 'wb', 'length': '42', 'profile_img': 'http://tva2.sinaimg.cn/crop.0.0.180.180.50/9e76b555jw8e7cxmgk7ktj2050050aa0.jpg', 'time': '2018-08-21 10:46:42', 'login_type': '0', 'audio': '', 'agree': '0'}, {'comment_imgs': '', 'parent_mid': '0', 'news_mid_source': '0', 'rank': '0', 'mid': '5B7B7F8F-DAC72BC5-48A9D835-901-868', 'video': '', 'vote': '0', 'uid': '1219090485', 'area': '湖北武汉', 'channel_source': '', 'content': '回复 @半月kodachi:你这算是自言自语吧，对自己认识得挺清楚。', 'nick': '双面H', 'hot': '0', 'status_uid': '2462605080', 'content_ext': '', 'ip': '218.199.43.197', 'media_type': '0', 'config': 'wb_verified=0&wb_screen_name=双面H&wb_cmnt_type=comment_status&wb_user_id=1219090485&wb_description=&area=湖北武汉&wb_parent=&wb_profile_img=http%3A%2F%2Ftva1.sinaimg.cn%2Fcrop.0.0.540.540.50%2F48a9d835jw8ewnc0j9msgj20f00f03zh.jpg&wb_time=2018-08-21 10:57:21&wb_comment_id=4275408326653909&p_nick=半月kodachi&p_uid=2658579797', 'channel': 'cj', 'comment_mid': '0', 'status': 'M_PASWAIT', 'openid': '', 'newsid_source': '', 'parent': '5B7B7D0E-75882932-9E76B555-901-904', 'status_cmnt_mid': '4275408326653909', 'parent_profile_img': 'http://tva2.sinaimg.cn/crop.0.0.180.180.50/9e76b555jw8e7cxmgk7ktj2050050aa0.jpg', 'news_mid': '0', 'parent_nick': '半月kodachi', 'newsid': 'comos-hhvciiv7815535', 'parent_uid': '2658579797', 'thread_mid': '0', 'thread': '5B761214-DAC72BF0-48A9D835-901-868', 'level': '6', 'against': '1534820243', 'usertype': 'wb', 'length': '34', 'profile_img': 'http://tva1.sinaimg.cn/crop.0.0.540.540.50/48a9d835jw8ewnc0j9msgj20f00f03zh.jpg', 'time': '2018-08-21 10:57:23', 'login_type': '0', 'audio': '', 'agree': '0'}, {'comment_imgs': '', 'parent_mid': '0', 'news_mid_source': '0', 'rank': '0', 'mid': '5B7BAF26-75882932-9E76B555-901-904', 'video': '', 'vote': '0', 'uid': '2658579797', 'area': '广东广州', 'channel_source': '', 'content': '幼稚。', 'nick': '半月kodachi', 'hot': '0', 'status_uid': '2462605080', 'content_ext': '', 'ip': '117.136.41.50', 'media_type': '0', 'config': 'wb_verified=0&wb_screen_name=半月kodachi&wb_cmnt_type=comment_status&wb_user_id=2658579797&wb_description=&area=广东广州&wb_parent=&wb_profile_img=http%3A%2F%2Ftva2.sinaimg.cn%2Fcrop.0.0.180.180.50%2F9e76b555jw8e7cxmgk7ktj2050050aa0.jpg&wb_time=2018-08-21 14:20:07&wb_comment_id=4275459355566449&p_nick=双面H&p_uid=1219090485', 'channel': 'cj', 'comment_mid': '0', 'status': 'M_PASWAIT', 'openid': '', 'newsid_source': '', 'parent': '5B7B7F8F-DAC72BC5-48A9D835-901-868', 'status_cmnt_mid': '4275459355566449', 'parent_profile_img': 'http://tva1.sinaimg.cn/crop.0.0.540.540.50/48a9d835jw8ewnc0j9msgj20f00f03zh.jpg', 'news_mid': '0', 'parent_nick': '双面H', 'newsid': 'comos-hhvciiv7815535', 'parent_uid': '1219090485', 'thread_mid': '0', 'thread': '5B761214-DAC72BF0-48A9D835-901-868', 'level': '7', 'against': '1534832425', 'usertype': 'wb', 'length': '10', 'profile_img': 'http://tva2.sinaimg.cn/crop.0.0.180.180.50/9e76b555jw8e7cxmgk7ktj2050050aa0.jpg', 'time': '2018-08-21 14:20:25', 'login_type': '0', 'audio': '', 'agree': '0'}], '5B7B7D0E-75882932-9E76B555-901-904': [{'comment_imgs': '', 'parent_mid': '0', 'news_mid_source': '0', 'rank': '0', 'mid': '5B761214-DAC72BF0-48A9D835-901-868', 'video': '', 'vote': '0', 'uid': '1219090485', 'area': '湖北武汉', 'channel_source': '', 'content': '这个店口味还行，不过短期内是不会再去了。当然并非出于爱国，只是比较懒不想跑[二哈][二哈][二哈]', 'nick': '双面H', 'hot': '0', 'status_uid': '2462605080', 'content_ext': '', 'ip': '218.199.43.240', 'media_type': '0', 'config': 'wb_verified=0&wb_screen_name=双面H&wb_cmnt_type=comment_status&wb_user_id=1219090485&wb_description=&area=湖北武汉&wb_parent=&wb_profile_img=http%3A%2F%2Ftva1.sinaimg.cn%2Fcrop.0.0.540.540.50%2F48a9d835jw8ewnc0j9msgj20f00f03zh.jpg&wb_time=2018-08-17 08:08:44&wb_comment_id=4273916345902184', 'channel': 'cj', 'comment_mid': '0', 'status': 'M_PASWAIT', 'openid': '', 'newsid_source': '', 'parent': '', 'status_cmnt_mid': '4273916345902184', 'parent_profile_img': '', 'news_mid': '0', 'parent_nick': '', 'newsid': 'comos-hhvciiv7815535', 'parent_uid': '0', 'thread_mid': '0', 'thread': '', 'level': '0', 'against': '1534464534', 'usertype': 'wb', 'length': '49', 'profile_img': 'http://tva1.sinaimg.cn/crop.0.0.540.540.50/48a9d835jw8ewnc0j9msgj20f00f03zh.jpg', 'time': '2018-08-17 08:08:54', 'login_type': '0', 'audio': '', 'agree': '0'}, {'comment_imgs': '', 'parent_mid': '0', 'news_mid_source': '0', 'rank': '0', 'mid': '5B77A126-7588294E-9E76B555-901-904', 'video': '', 'vote': '0', 'uid': '2658579797', 'area': '广东广州', 'channel_source': '', 'content': '这样也不能显出你突出，幼稚', 'nick': '半月kodachi', 'hot': '0', 'status_uid': '2462605080', 'content_ext': '', 'ip': '117.136.41.78', 'media_type': '0', 'config': 'wb_verified=0&wb_screen_name=半月kodachi&wb_cmnt_type=comment_status&wb_user_id=2658579797&wb_description=&area=广东广州&wb_parent=&wb_profile_img=http%3A%2F%2Ftva2.sinaimg.cn%2Fcrop.0.0.180.180.50%2F9e76b555jw8e7cxmgk7ktj2050050aa0.jpg&wb_time=2018-08-18 12:31:32&wb_comment_id=4274344866009449&p_nick=双面H&p_uid=1219090485', 'channel': 'cj', 'comment_mid': '0', 'status': 'M_PASWAIT', 'openid': '', 'newsid_source': '', 'parent': '5B761214-DAC72BF0-48A9D835-901-868', 'status_cmnt_mid': '4274344866009449', 'parent_profile_img': 'http://tva1.sinaimg.cn/crop.0.0.540.540.50/48a9d835jw8ewnc0j9msgj20f00f03zh.jpg', 'news_mid': '0', 'parent_nick': '双面H', 'newsid': 'comos-hhvciiv7815535', 'parent_uid': '1219090485', 'thread_mid': '0', 'thread': '5B761214-DAC72BF0-48A9D835-901-868', 'level': '1', 'against': '1534566696', 'usertype': 'wb', 'length': '20', 'profile_img': 'http://tva2.sinaimg.cn/crop.0.0.180.180.50/9e76b555jw8e7cxmgk7ktj2050050aa0.jpg', 'time': '2018-08-18 12:31:36', 'login_type': '0', 'audio': '', 'agree': '0'}, {'comment_imgs': '', 'parent_mid': '0', 'news_mid_source': '0', 'rank': '0', 'mid': '5B77E6D2-7139B7A2-48A9D835-901-868', 'video': '', 'vote': '0', 'uid': '1219090485', 'area': '湖北武汉', 'channel_source': '', 'content': '回复 @半月kodachi:我纯粹是因为距离远懒得跑。你又在秀什么存在感。', 'nick': '双面H', 'hot': '0', 'status_uid': '2462605080', 'content_ext': '', 'ip': '113.57.183.162', 'media_type': '0', 'config': 'wb_verified=0&wb_screen_name=双面H&wb_cmnt_type=comment_status&wb_user_id=1219090485&wb_description=&area=湖北武汉&wb_parent=&wb_profile_img=http%3A%2F%2Ftva1.sinaimg.cn%2Fcrop.0.0.540.540.50%2F48a9d835jw8ewnc0j9msgj20f00f03zh.jpg&wb_time=2018-08-18 17:28:41&wb_comment_id=4274419646145182&p_nick=半月kodachi&p_uid=2658579797', 'channel': 'cj', 'comment_mid': '0', 'status': 'M_PASWAIT', 'openid': '', 'newsid_source': '', 'parent': '5B77A126-7588294E-9E76B555-901-904', 'status_cmnt_mid': '4274419646145182', 'parent_profile_img': 'http://tva2.sinaimg.cn/crop.0.0.180.180.50/9e76b555jw8e7cxmgk7ktj2050050aa0.jpg', 'news_mid': '0', 'parent_nick': '半月kodachi', 'newsid': 'comos-hhvciiv7815535', 'parent_uid': '2658579797', 'thread_mid': '0', 'thread': '5B761214-DAC72BF0-48A9D835-901-868', 'level': '2', 'against': '1534584534', 'usertype': 'wb', 'length': '37', 'profile_img': 'http://tva1.sinaimg.cn/crop.0.0.540.540.50/48a9d835jw8ewnc0j9msgj20f00f03zh.jpg', 'time': '2018-08-18 17:28:55', 'login_type': '0', 'audio': '', 'agree': '0'}, {'comment_imgs': '', 'parent_mid': '0', 'news_mid_source': '0', 'rank': '0', 'mid': '5B7AACD0-DF683F5A-9E76B555-901-904', 'video': '', 'vote': '0', 'uid': '2658579797', 'area': '广东', 'channel_source': '', 'content': '我不需要存在感。幼稚', 'nick': '半月kodachi', 'hot': '0', 'status_uid': '2462605080', 'content_ext': '', 'ip': '223.104.63.90', 'media_type': '0', 'config': 'wb_verified=0&wb_screen_name=半月kodachi&wb_cmnt_type=comment_status&wb_user_id=2658579797&wb_description=&area=广东&wb_parent=&wb_profile_img=http%3A%2F%2Ftva2.sinaimg.cn%2Fcrop.0.0.180.180.50%2F9e76b555jw8e7cxmgk7ktj2050050aa0.jpg&wb_time=2018-08-20 19:58:04&wb_comment_id=4275182015164981&p_nick=双面H&p_uid=1219090485', 'channel': 'cj', 'comment_mid': '0', 'status': 'M_PASWAIT', 'openid': '', 'newsid_source': '', 'parent': '5B77E6D2-7139B7A2-48A9D835-901-868', 'status_cmnt_mid': '4275182015164981', 'parent_profile_img': 'http://tva1.sinaimg.cn/crop.0.0.540.540.50/48a9d835jw8ewnc0j9msgj20f00f03zh.jpg', 'news_mid': '0', 'parent_nick': '双面H', 'newsid': 'comos-hhvciiv7815535', 'parent_uid': '1219090485', 'thread_mid': '0', 'thread': '5B761214-DAC72BF0-48A9D835-901-868', 'level': '3', 'against': '1534766288', 'usertype': 'wb', 'length': '17', 'profile_img': 'http://tva2.sinaimg.cn/crop.0.0.180.180.50/9e76b555jw8e7cxmgk7ktj2050050aa0.jpg', 'time': '2018-08-20 19:58:08', 'login_type': '0', 'audio': '', 'agree': '0'}, {'comment_imgs': '', 'parent_mid': '0', 'news_mid_source': '0', 'rank': '0', 'mid': '5B7AC164-DAC72BC5-48A9D835-901-868', 'video': '', 'vote': '0', 'uid': '1219090485', 'area': '湖北武汉', 'channel_source': '', 'content': '回复 @半月kodachi:那你蹦跶出来文不对题是干嘛？智商水平所致？那倒是说得通。', 'nick': '双面H', 'hot': '0', 'status_uid': '2462605080', 'content_ext': '', 'ip': '218.199.43.197', 'media_type': '0', 'config': 'wb_verified=0&wb_screen_name=双面H&wb_cmnt_type=comment_status&wb_user_id=1219090485&wb_description=&area=湖北武汉&wb_parent=&wb_profile_img=http%3A%2F%2Ftva1.sinaimg.cn%2Fcrop.0.0.540.540.50%2F48a9d835jw8ewnc0j9msgj20f00f03zh.jpg&wb_time=2018-08-20 21:25:41&wb_comment_id=4275204064347828&p_nick=半月kodachi&p_uid=2658579797', 'channel': 'cj', 'comment_mid': '0', 'status': 'M_PASWAIT', 'openid': '', 'newsid_source': '', 'parent': '5B7AACD0-DF683F5A-9E76B555-901-904', 'status_cmnt_mid': '4275204064347828', 'parent_profile_img': 'http://tva2.sinaimg.cn/crop.0.0.180.180.50/9e76b555jw8e7cxmgk7ktj2050050aa0.jpg', 'news_mid': '0', 'parent_nick': '半月kodachi', 'newsid': 'comos-hhvciiv7815535', 'parent_uid': '2658579797', 'thread_mid': '0', 'thread': '5B761214-DAC72BF0-48A9D835-901-868', 'level': '4', 'against': '1534771556', 'usertype': 'wb', 'length': '42', 'profile_img': 'http://tva1.sinaimg.cn/crop.0.0.540.540.50/48a9d835jw8ewnc0j9msgj20f00f03zh.jpg', 'time': '2018-08-20 21:25:56', 'login_type': '0', 'audio': '', 'agree': '0'}], '5B7B7B85-75882932-9E76B555-901-904': [{'comment_imgs': '', 'parent_mid': '0', 'news_mid_source': '0', 'rank': '0', 'mid': '5B761214-DAC72BF0-48A9D835-901-868', 'video': '', 'vote': '0', 'uid': '1219090485', 'area': '湖北武汉', 'channel_source': '', 'content': '这个店口味还行，不过短期内是不会再去了。当然并非出于爱国，只是比较懒不想跑[二哈][二哈][二哈]', 'nick': '双面H', 'hot': '0', 'status_uid': '2462605080', 'content_ext': '', 'ip': '218.199.43.240', 'media_type': '0', 'config': 'wb_verified=0&wb_screen_name=双面H&wb_cmnt_type=comment_status&wb_user_id=1219090485&wb_description=&area=湖北武汉&wb_parent=&wb_profile_img=http%3A%2F%2Ftva1.sinaimg.cn%2Fcrop.0.0.540.540.50%2F48a9d835jw8ewnc0j9msgj20f00f03zh.jpg&wb_time=2018-08-17 08:08:44&wb_comment_id=4273916345902184', 'channel': 'cj', 'comment_mid': '0', 'status': 'M_PASWAIT', 'openid': '', 'newsid_source': '', 'parent': '', 'status_cmnt_mid': '4273916345902184', 'parent_profile_img': '', 'news_mid': '0', 'parent_nick': '', 'newsid': 'comos-hhvciiv7815535', 'parent_uid': '0', 'thread_mid': '0', 'thread': '', 'level': '0', 'against': '1534464534', 'usertype': 'wb', 'length': '49', 'profile_img': 'http://tva1.sinaimg.cn/crop.0.0.540.540.50/48a9d835jw8ewnc0j9msgj20f00f03zh.jpg', 'time': '2018-08-17 08:08:54', 'login_type': '0', 'audio': '', 'agree': '0'}, {'comment_imgs': '', 'parent_mid': '0', 'news_mid_source': '0', 'rank': '0', 'mid': '5B77A126-7588294E-9E76B555-901-904', 'video': '', 'vote': '0', 'uid': '2658579797', 'area': '广东广州', 'channel_source': '', 'content': '这样也不能显出你突出，幼稚', 'nick': '半月kodachi', 'hot': '0', 'status_uid': '2462605080', 'content_ext': '', 'ip': '117.136.41.78', 'media_type': '0', 'config': 'wb_verified=0&wb_screen_name=半月kodachi&wb_cmnt_type=comment_status&wb_user_id=2658579797&wb_description=&area=广东广州&wb_parent=&wb_profile_img=http%3A%2F%2Ftva2.sinaimg.cn%2Fcrop.0.0.180.180.50%2F9e76b555jw8e7cxmgk7ktj2050050aa0.jpg&wb_time=2018-08-18 12:31:32&wb_comment_id=4274344866009449&p_nick=双面H&p_uid=1219090485', 'channel': 'cj', 'comment_mid': '0', 'status': 'M_PASWAIT', 'openid': '', 'newsid_source': '', 'parent': '5B761214-DAC72BF0-48A9D835-901-868', 'status_cmnt_mid': '4274344866009449', 'parent_profile_img': 'http://tva1.sinaimg.cn/crop.0.0.540.540.50/48a9d835jw8ewnc0j9msgj20f00f03zh.jpg', 'news_mid': '0', 'parent_nick': '双面H', 'newsid': 'comos-hhvciiv7815535', 'parent_uid': '1219090485', 'thread_mid': '0', 'thread': '5B761214-DAC72BF0-48A9D835-901-868', 'level': '1', 'against': '1534566696', 'usertype': 'wb', 'length': '20', 'profile_img': 'http://tva2.sinaimg.cn/crop.0.0.180.180.50/9e76b555jw8e7cxmgk7ktj2050050aa0.jpg', 'time': '2018-08-18 12:31:36', 'login_type': '0', 'audio': '', 'agree': '0'}, {'comment_imgs': '', 'parent_mid': '0', 'news_mid_source': '0', 'rank': '0', 'mid': '5B77E6D2-7139B7A2-48A9D835-901-868', 'video': '', 'vote': '0', 'uid': '1219090485', 'area': '湖北武汉', 'channel_source': '', 'content': '回复 @半月kodachi:我纯粹是因为距离远懒得跑。你又在秀什么存在感。', 'nick': '双面H', 'hot': '0', 'status_uid': '2462605080', 'content_ext': '', 'ip': '113.57.183.162', 'media_type': '0', 'config': 'wb_verified=0&wb_screen_name=双面H&wb_cmnt_type=comment_status&wb_user_id=1219090485&wb_description=&area=湖北武汉&wb_parent=&wb_profile_img=http%3A%2F%2Ftva1.sinaimg.cn%2Fcrop.0.0.540.540.50%2F48a9d835jw8ewnc0j9msgj20f00f03zh.jpg&wb_time=2018-08-18 17:28:41&wb_comment_id=4274419646145182&p_nick=半月kodachi&p_uid=2658579797', 'channel': 'cj', 'comment_mid': '0', 'status': 'M_PASWAIT', 'openid': '', 'newsid_source': '', 'parent': '5B77A126-7588294E-9E76B555-901-904', 'status_cmnt_mid': '4274419646145182', 'parent_profile_img': 'http://tva2.sinaimg.cn/crop.0.0.180.180.50/9e76b555jw8e7cxmgk7ktj2050050aa0.jpg', 'news_mid': '0', 'parent_nick': '半月kodachi', 'newsid': 'comos-hhvciiv7815535', 'parent_uid': '2658579797', 'thread_mid': '0', 'thread': '5B761214-DAC72BF0-48A9D835-901-868', 'level': '2', 'against': '1534584534', 'usertype': 'wb', 'length': '37', 'profile_img': 'http://tva1.sinaimg.cn/crop.0.0.540.540.50/48a9d835jw8ewnc0j9msgj20f00f03zh.jpg', 'time': '2018-08-18 17:28:55', 'login_type': '0', 'audio': '', 'agree': '0'}, {'comment_imgs': '', 'parent_mid': '0', 'news_mid_source': '0', 'rank': '0', 'mid': '5B7AACD0-DF683F5A-9E76B555-901-904', 'video': '', 'vote': '0', 'uid': '2658579797', 'area': '广东', 'channel_source': '', 'content': '我不需要存在感。幼稚', 'nick': '半月kodachi', 'hot': '0', 'status_uid': '2462605080', 'content_ext': '', 'ip': '223.104.63.90', 'media_type': '0', 'config': 'wb_verified=0&wb_screen_name=半月kodachi&wb_cmnt_type=comment_status&wb_user_id=2658579797&wb_description=&area=广东&wb_parent=&wb_profile_img=http%3A%2F%2Ftva2.sinaimg.cn%2Fcrop.0.0.180.180.50%2F9e76b555jw8e7cxmgk7ktj2050050aa0.jpg&wb_time=2018-08-20 19:58:04&wb_comment_id=4275182015164981&p_nick=双面H&p_uid=1219090485', 'channel': 'cj', 'comment_mid': '0', 'status': 'M_PASWAIT', 'openid': '', 'newsid_source': '', 'parent': '5B77E6D2-7139B7A2-48A9D835-901-868', 'status_cmnt_mid': '4275182015164981', 'parent_profile_img': 'http://tva1.sinaimg.cn/crop.0.0.540.540.50/48a9d835jw8ewnc0j9msgj20f00f03zh.jpg', 'news_mid': '0', 'parent_nick': '双面H', 'newsid': 'comos-hhvciiv7815535', 'parent_uid': '1219090485', 'thread_mid': '0', 'thread': '5B761214-DAC72BF0-48A9D835-901-868', 'level': '3', 'against': '1534766288', 'usertype': 'wb', 'length': '17', 'profile_img': 'http://tva2.sinaimg.cn/crop.0.0.180.180.50/9e76b555jw8e7cxmgk7ktj2050050aa0.jpg', 'time': '2018-08-20 19:58:08', 'login_type': '0', 'audio': '', 'agree': '0'}, {'comment_imgs': '', 'parent_mid': '0', 'news_mid_source': '0', 'rank': '0', 'mid': '5B7AC164-DAC72BC5-48A9D835-901-868', 'video': '', 'vote': '0', 'uid': '1219090485', 'area': '湖北武汉', 'channel_source': '', 'content': '回复 @半月kodachi:那你蹦跶出来文不对题是干嘛？智商水平所致？那倒是说得通。', 'nick': '双面H', 'hot': '0', 'status_uid': '2462605080', 'content_ext': '', 'ip': '218.199.43.197', 'media_type': '0', 'config': 'wb_verified=0&wb_screen_name=双面H&wb_cmnt_type=comment_status&wb_user_id=1219090485&wb_description=&area=湖北武汉&wb_parent=&wb_profile_img=http%3A%2F%2Ftva1.sinaimg.cn%2Fcrop.0.0.540.540.50%2F48a9d835jw8ewnc0j9msgj20f00f03zh.jpg&wb_time=2018-08-20 21:25:41&wb_comment_id=4275204064347828&p_nick=半月kodachi&p_uid=2658579797', 'channel': 'cj', 'comment_mid': '0', 'status': 'M_PASWAIT', 'openid': '', 'newsid_source': '', 'parent': '5B7AACD0-DF683F5A-9E76B555-901-904', 'status_cmnt_mid': '4275204064347828', 'parent_profile_img': 'http://tva2.sinaimg.cn/crop.0.0.180.180.50/9e76b555jw8e7cxmgk7ktj2050050aa0.jpg', 'news_mid': '0', 'parent_nick': '半月kodachi', 'newsid': 'comos-hhvciiv7815535', 'parent_uid': '2658579797', 'thread_mid': '0', 'thread': '5B761214-DAC72BF0-48A9D835-901-868', 'level': '4', 'against': '1534771556', 'usertype': 'wb', 'length': '42', 'profile_img': 'http://tva1.sinaimg.cn/crop.0.0.540.540.50/48a9d835jw8ewnc0j9msgj20f00f03zh.jpg', 'time': '2018-08-20 21:25:56', 'login_type': '0', 'audio': '', 'agree': '0'}], '5B7AC164-DAC72BC5-48A9D835-901-868': [{'comment_imgs': '', 'parent_mid': '0', 'news_mid_source': '0', 'rank': '0', 'mid': '5B761214-DAC72BF0-48A9D835-901-868', 'video': '', 'vote': '0', 'uid': '1219090485', 'area': '湖北武汉', 'channel_source': '', 'content': '这个店口味还行，不过短期内是不会再去了。当然并非出于爱国，只是比较懒不想跑[二哈][二哈][二哈]', 'nick': '双面H', 'hot': '0', 'status_uid': '2462605080', 'content_ext': '', 'ip': '218.199.43.240', 'media_type': '0', 'config': 'wb_verified=0&wb_screen_name=双面H&wb_cmnt_type=comment_status&wb_user_id=1219090485&wb_description=&area=湖北武汉&wb_parent=&wb_profile_img=http%3A%2F%2Ftva1.sinaimg.cn%2Fcrop.0.0.540.540.50%2F48a9d835jw8ewnc0j9msgj20f00f03zh.jpg&wb_time=2018-08-17 08:08:44&wb_comment_id=4273916345902184', 'channel': 'cj', 'comment_mid': '0', 'status': 'M_PASWAIT', 'openid': '', 'newsid_source': '', 'parent': '', 'status_cmnt_mid': '4273916345902184', 'parent_profile_img': '', 'news_mid': '0', 'parent_nick': '', 'newsid': 'comos-hhvciiv7815535', 'parent_uid': '0', 'thread_mid': '0', 'thread': '', 'level': '0', 'against': '1534464534', 'usertype': 'wb', 'length': '49', 'profile_img': 'http://tva1.sinaimg.cn/crop.0.0.540.540.50/48a9d835jw8ewnc0j9msgj20f00f03zh.jpg', 'time': '2018-08-17 08:08:54', 'login_type': '0', 'audio': '', 'agree': '0'}, {'comment_imgs': '', 'parent_mid': '0', 'news_mid_source': '0', 'rank': '0', 'mid': '5B77A126-7588294E-9E76B555-901-904', 'video': '', 'vote': '0', 'uid': '2658579797', 'area': '广东广州', 'channel_source': '', 'content': '这样也不能显出你突出，幼稚', 'nick': '半月kodachi', 'hot': '0', 'status_uid': '2462605080', 'content_ext': '', 'ip': '117.136.41.78', 'media_type': '0', 'config': 'wb_verified=0&wb_screen_name=半月kodachi&wb_cmnt_type=comment_status&wb_user_id=2658579797&wb_description=&area=广东广州&wb_parent=&wb_profile_img=http%3A%2F%2Ftva2.sinaimg.cn%2Fcrop.0.0.180.180.50%2F9e76b555jw8e7cxmgk7ktj2050050aa0.jpg&wb_time=2018-08-18 12:31:32&wb_comment_id=4274344866009449&p_nick=双面H&p_uid=1219090485', 'channel': 'cj', 'comment_mid': '0', 'status': 'M_PASWAIT', 'openid': '', 'newsid_source': '', 'parent': '5B761214-DAC72BF0-48A9D835-901-868', 'status_cmnt_mid': '4274344866009449', 'parent_profile_img': 'http://tva1.sinaimg.cn/crop.0.0.540.540.50/48a9d835jw8ewnc0j9msgj20f00f03zh.jpg', 'news_mid': '0', 'parent_nick': '双面H', 'newsid': 'comos-hhvciiv7815535', 'parent_uid': '1219090485', 'thread_mid': '0', 'thread': '5B761214-DAC72BF0-48A9D835-901-868', 'level': '1', 'against': '1534566696', 'usertype': 'wb', 'length': '20', 'profile_img': 'http://tva2.sinaimg.cn/crop.0.0.180.180.50/9e76b555jw8e7cxmgk7ktj2050050aa0.jpg', 'time': '2018-08-18 12:31:36', 'login_type': '0', 'audio': '', 'agree': '0'}, {'comment_imgs': '', 'parent_mid': '0', 'news_mid_source': '0', 'rank': '0', 'mid': '5B77E6D2-7139B7A2-48A9D835-901-868', 'video': '', 'vote': '0', 'uid': '1219090485', 'area': '湖北武汉', 'channel_source': '', 'content': '回复 @半月kodachi:我纯粹是因为距离远懒得跑。你又在秀什么存在感。', 'nick': '双面H', 'hot': '0', 'status_uid': '2462605080', 'content_ext': '', 'ip': '113.57.183.162', 'media_type': '0', 'config': 'wb_verified=0&wb_screen_name=双面H&wb_cmnt_type=comment_status&wb_user_id=1219090485&wb_description=&area=湖北武汉&wb_parent=&wb_profile_img=http%3A%2F%2Ftva1.sinaimg.cn%2Fcrop.0.0.540.540.50%2F48a9d835jw8ewnc0j9msgj20f00f03zh.jpg&wb_time=2018-08-18 17:28:41&wb_comment_id=4274419646145182&p_nick=半月kodachi&p_uid=2658579797', 'channel': 'cj', 'comment_mid': '0', 'status': 'M_PASWAIT', 'openid': '', 'newsid_source': '', 'parent': '5B77A126-7588294E-9E76B555-901-904', 'status_cmnt_mid': '4274419646145182', 'parent_profile_img': 'http://tva2.sinaimg.cn/crop.0.0.180.180.50/9e76b555jw8e7cxmgk7ktj2050050aa0.jpg', 'news_mid': '0', 'parent_nick': '半月kodachi', 'newsid': 'comos-hhvciiv7815535', 'parent_uid': '2658579797', 'thread_mid': '0', 'thread': '5B761214-DAC72BF0-48A9D835-901-868', 'level': '2', 'against': '1534584534', 'usertype': 'wb', 'length': '37', 'profile_img': 'http://tva1.sinaimg.cn/crop.0.0.540.540.50/48a9d835jw8ewnc0j9msgj20f00f03zh.jpg', 'time': '2018-08-18 17:28:55', 'login_type': '0', 'audio': '', 'agree': '0'}, {'comment_imgs': '', 'parent_mid': '0', 'news_mid_source': '0', 'rank': '0', 'mid': '5B7AACD0-DF683F5A-9E76B555-901-904', 'video': '', 'vote': '0', 'uid': '2658579797', 'area': '广东', 'channel_source': '', 'content': '我不需要存在感。幼稚', 'nick': '半月kodachi', 'hot': '0', 'status_uid': '2462605080', 'content_ext': '', 'ip': '223.104.63.90', 'media_type': '0', 'config': 'wb_verified=0&wb_screen_name=半月kodachi&wb_cmnt_type=comment_status&wb_user_id=2658579797&wb_description=&area=广东&wb_parent=&wb_profile_img=http%3A%2F%2Ftva2.sinaimg.cn%2Fcrop.0.0.180.180.50%2F9e76b555jw8e7cxmgk7ktj2050050aa0.jpg&wb_time=2018-08-20 19:58:04&wb_comment_id=4275182015164981&p_nick=双面H&p_uid=1219090485', 'channel': 'cj', 'comment_mid': '0', 'status': 'M_PASWAIT', 'openid': '', 'newsid_source': '', 'parent': '5B77E6D2-7139B7A2-48A9D835-901-868', 'status_cmnt_mid': '4275182015164981', 'parent_profile_img': 'http://tva1.sinaimg.cn/crop.0.0.540.540.50/48a9d835jw8ewnc0j9msgj20f00f03zh.jpg', 'news_mid': '0', 'parent_nick': '双面H', 'newsid': 'comos-hhvciiv7815535', 'parent_uid': '1219090485', 'thread_mid': '0', 'thread': '5B761214-DAC72BF0-48A9D835-901-868', 'level': '3', 'against': '1534766288', 'usertype': 'wb', 'length': '17', 'profile_img': 'http://tva2.sinaimg.cn/crop.0.0.180.180.50/9e76b555jw8e7cxmgk7ktj2050050aa0.jpg', 'time': '2018-08-20 19:58:08', 'login_type': '0', 'audio': '', 'agree': '0'}], '5B77D736-249DB7B2-41B2A38D-901-84A': [{'comment_imgs': '', 'parent_mid': '0', 'news_mid_source': '0', 'rank': '10', 'mid': '5B753E1C-70613DD2-6968572F-901-924', 'video': '', 'vote': '0', 'uid': '1768445743', 'area': '广东深圳', 'channel_source': '', 'content': '呦呦呦，85C在台湾的店号称“所有材料均不适用中国制造”，意思就是说：“我85C的材料都是台湾本地的，不是中国制造的”，这么猖狂的分裂言论，不让它倒闭天理何在呢？', 'nick': '班得威banban', 'hot': '0', 'status_uid': '1640337222', 'content_ext': '', 'ip': '112.97.61.210', 'media_type': '0', 'config': 'wb_verified=0&wb_screen_name=班得威banban&wb_cmnt_type=comment_status&wb_user_id=1768445743&wb_description=&area=广东深圳&wb_parent=&wb_profile_img=http%3A%2F%2Ftvax4.sinaimg.cn%2Fcrop.0.0.750.750.50%2F6968572fly8fg2f3rmnqkj20ku0kuaai.jpg&wb_time=2018-08-16 17:04:22&wb_comment_id=4273688751294516', 'channel': 'cj', 'comment_mid': '0', 'status': 'M_PASWAIT', 'openid': '', 'newsid_source': '', 'parent': '', 'status_cmnt_mid': '4273688751294516', 'parent_profile_img': '', 'news_mid': '0', 'parent_nick': '', 'newsid': 'comos-hhvciiv7815535', 'parent_uid': '0', 'thread_mid': '0', 'thread': '', 'level': '0', 'against': '1534410272', 'usertype': 'wb', 'length': '81', 'profile_img': 'http://tvax4.sinaimg.cn/crop.0.0.750.750.50/6968572fly8fg2f3rmnqkj20ku0kuaai.jpg', 'time': '2018-08-16 17:04:32', 'login_type': '0', 'audio': '', 'agree': '10'}], '5B7C3D11-6E576DF0-16B2193F6-901-92E': [{'comment_imgs': '', 'parent_mid': '0', 'news_mid_source': '0', 'rank': '9', 'mid': '5B75199A-1326436-1384F245E-901-834', 'video': '', 'vote': '0', 'uid': '5239678046', 'area': '宁夏银川', 'channel_source': '', 'content': '典型的赚大陆的钱支持台独，坚决清出大陆市场！', 'nick': '塞上陶然哥', 'hot': '0', 'status_uid': '1640337222', 'content_ext': '', 'ip': '1.50.100.54', 'media_type': '0', 'config': 'wb_verified=0&wb_screen_name=塞上陶然哥&wb_cmnt_type=comment_status&wb_user_id=5239678046&wb_description=&area=宁夏银川&wb_parent=&wb_profile_img=http%3A%2F%2Ftva4.sinaimg.cn%2Fcrop.0.0.720.720.50%2F005IB9Cejw8eizjebplv9j30k00k0tah.jpg&wb_time=2018-08-16 14:28:11&wb_comment_id=4273649446083595', 'channel': 'cj', 'comment_mid': '0', 'status': 'M_PASS', 'openid': '', 'newsid_source': '', 'parent': '', 'status_cmnt_mid': '4273649446083595', 'parent_profile_img': '', 'news_mid': '0', 'parent_nick': '', 'newsid': 'comos-hhvciiv7815535', 'parent_uid': '0', 'thread_mid': '0', 'thread': '', 'level': '0', 'against': '1534400924', 'usertype': 'wb', 'length': '22', 'profile_img': 'http://tva4.sinaimg.cn/crop.0.0.720.720.50/005IB9Cejw8eizjebplv9j30k00k0tah.jpg', 'time': '2018-08-16 14:28:44', 'login_type': '0', 'audio': '', 'agree': '9'}, {'comment_imgs': '', 'parent_mid': '0', 'news_mid_source': '0', 'rank': '0', 'mid': '5B7B9C6B-3B7856A8-16B2193F6-901-92E', 'video': '', 'vote': '0', 'uid': '6092329974', 'area': '台湾台中', 'channel_source': '', 'content': '反正全世界抵制中国产品 你骄傲啥？', 'nick': '这辈子不会放过西西', 'hot': '0', 'status_uid': '1640337222', 'content_ext': '', 'ip': '59.120.86.168', 'media_type': '0', 'config': 'wb_verified=0&wb_screen_name=这辈子不会放过西西&wb_cmnt_type=comment_status&wb_user_id=6092329974&wb_description=&area=台湾台中&wb_parent=&wb_profile_img=http%3A%2F%2Ftvax3.sinaimg.cn%2Fcrop.0.0.512.512.50%2F006EiNkGly8fp4ngygtzcj30e80e8jrn.jpg&wb_time=2018-08-21 13:00:22&wb_comment_id=4275439289946238&p_nick=塞上陶然哥&p_uid=5239678046', 'channel': 'cj', 'comment_mid': '0', 'status': 'M_PASWAIT', 'openid': '', 'newsid_source': '', 'parent': '5B75199A-1326436-1384F245E-901-834', 'status_cmnt_mid': '4275439289946238', 'parent_profile_img': 'http://tva4.sinaimg.cn/crop.0.0.720.720.50/005IB9Cejw8eizjebplv9j30k00k0tah.jpg', 'news_mid': '0', 'parent_nick': '塞上陶然哥', 'newsid': 'comos-hhvciiv7815535', 'parent_uid': '5239678046', 'thread_mid': '0', 'thread': '5B75199A-1326436-1384F245E-901-834', 'level': '1', 'against': '1534827627', 'usertype': 'wb', 'length': '26', 'profile_img': 'http://tvax3.sinaimg.cn/crop.0.0.512.512.50/006EiNkGly8fp4ngygtzcj30e80e8jrn.jpg', 'time': '2018-08-21 13:00:27', 'login_type': '0', 'audio': '', 'agree': '0'}, {'comment_imgs': '', 'parent_mid': '0', 'news_mid_source': '0', 'rank': '0', 'mid': '5B7BBF2E-1326436-1384F245E-901-834', 'video': '', 'vote': '0', 'uid': '5239678046', 'area': '宁夏银川', 'channel_source': '', 'content': '抵制了吗？用脑还是用脚想的？', 'nick': '塞上陶然哥', 'hot': '0', 'status_uid': '1640337222', 'content_ext': '', 'ip': '1.50.100.54', 'media_type': '0', 'config': 'wb_verified=0&wb_screen_name=塞上陶然哥&wb_cmnt_type=comment_status&wb_user_id=5239678046&wb_description=&area=宁夏银川&wb_parent=&wb_profile_img=http%3A%2F%2Ftva4.sinaimg.cn%2Fcrop.0.0.720.720.50%2F005IB9Cejw8eizjebplv9j30k00k0tah.jpg&wb_time=2018-08-21 15:28:34&wb_comment_id=4275476585688678&p_nick=这辈子不会放过西西&p_uid=6092329974', 'channel': 'cj', 'comment_mid': '0', 'status': 'M_PASWAIT', 'openid': '', 'newsid_source': '', 'parent': '5B7B9C6B-3B7856A8-16B2193F6-901-92E', 'status_cmnt_mid': '4275476585688678', 'parent_profile_img': 'http://tvax3.sinaimg.cn/crop.0.0.512.512.50/006EiNkGly8fp4ngygtzcj30e80e8jrn.jpg', 'news_mid': '0', 'parent_nick': '这辈子不会放过西西', 'newsid': 'comos-hhvciiv7815535', 'parent_uid': '6092329974', 'thread_mid': '0', 'thread': '5B75199A-1326436-1384F245E-901-834', 'level': '2', 'against': '1534836527', 'usertype': 'wb', 'length': '27', 'profile_img': 'http://tva4.sinaimg.cn/crop.0.0.720.720.50/005IB9Cejw8eizjebplv9j30k00k0tah.jpg', 'time': '2018-08-21 15:28:47', 'login_type': '0', 'audio': '', 'agree': '0'}], '5B7BBF2E-1326436-1384F245E-901-834': [{'comment_imgs': '', 'parent_mid': '0', 'news_mid_source': '0', 'rank': '9', 'mid': '5B75199A-1326436-1384F245E-901-834', 'video': '', 'vote': '0', 'uid': '5239678046', 'area': '宁夏银川', 'channel_source': '', 'content': '典型的赚大陆的钱支持台独，坚决清出大陆市场！', 'nick': '塞上陶然哥', 'hot': '0', 'status_uid': '1640337222', 'content_ext': '', 'ip': '1.50.100.54', 'media_type': '0', 'config': 'wb_verified=0&wb_screen_name=塞上陶然哥&wb_cmnt_type=comment_status&wb_user_id=5239678046&wb_description=&area=宁夏银川&wb_parent=&wb_profile_img=http%3A%2F%2Ftva4.sinaimg.cn%2Fcrop.0.0.720.720.50%2F005IB9Cejw8eizjebplv9j30k00k0tah.jpg&wb_time=2018-08-16 14:28:11&wb_comment_id=4273649446083595', 'channel': 'cj', 'comment_mid': '0', 'status': 'M_PASS', 'openid': '', 'newsid_source': '', 'parent': '', 'status_cmnt_mid': '4273649446083595', 'parent_profile_img': '', 'news_mid': '0', 'parent_nick': '', 'newsid': 'comos-hhvciiv7815535', 'parent_uid': '0', 'thread_mid': '0', 'thread': '', 'level': '0', 'against': '1534400924', 'usertype': 'wb', 'length': '22', 'profile_img': 'http://tva4.sinaimg.cn/crop.0.0.720.720.50/005IB9Cejw8eizjebplv9j30k00k0tah.jpg', 'time': '2018-08-16 14:28:44', 'login_type': '0', 'audio': '', 'agree': '9'}, {'comment_imgs': '', 'parent_mid': '0', 'news_mid_source': '0', 'rank': '0', 'mid': '5B7B9C6B-3B7856A8-16B2193F6-901-92E', 'video': '', 'vote': '0', 'uid': '6092329974', 'area': '台湾台中', 'channel_source': '', 'content': '反正全世界抵制中国产品 你骄傲啥？', 'nick': '这辈子不会放过西西', 'hot': '0', 'status_uid': '1640337222', 'content_ext': '', 'ip': '59.120.86.168', 'media_type': '0', 'config': 'wb_verified=0&wb_screen_name=这辈子不会放过西西&wb_cmnt_type=comment_status&wb_user_id=6092329974&wb_description=&area=台湾台中&wb_parent=&wb_profile_img=http%3A%2F%2Ftvax3.sinaimg.cn%2Fcrop.0.0.512.512.50%2F006EiNkGly8fp4ngygtzcj30e80e8jrn.jpg&wb_time=2018-08-21 13:00:22&wb_comment_id=4275439289946238&p_nick=塞上陶然哥&p_uid=5239678046', 'channel': 'cj', 'comment_mid': '0', 'status': 'M_PASWAIT', 'openid': '', 'newsid_source': '', 'parent': '5B75199A-1326436-1384F245E-901-834', 'status_cmnt_mid': '4275439289946238', 'parent_profile_img': 'http://tva4.sinaimg.cn/crop.0.0.720.720.50/005IB9Cejw8eizjebplv9j30k00k0tah.jpg', 'news_mid': '0', 'parent_nick': '塞上陶然哥', 'newsid': 'comos-hhvciiv7815535', 'parent_uid': '5239678046', 'thread_mid': '0', 'thread': '5B75199A-1326436-1384F245E-901-834', 'level': '1', 'against': '1534827627', 'usertype': 'wb', 'length': '26', 'profile_img': 'http://tvax3.sinaimg.cn/crop.0.0.512.512.50/006EiNkGly8fp4ngygtzcj30e80e8jrn.jpg', 'time': '2018-08-21 13:00:27', 'login_type': '0', 'audio': '', 'agree': '0'}], '5B768C23-75884BB2-180A5E230-901-9EC': [{'comment_imgs': '', 'parent_mid': '0', 'news_mid_source': '0', 'rank': '16', 'mid': '5B750F63-DF48F406-1799DC3F8-901-955', 'video': '', 'vote': '0', 'uid': '6335349752', 'area': '北京', 'channel_source': '', 'content': '说句不该说的，a股里创新低的股票到处都是啊，就今天。[摊手]', 'nick': '街道办张主任', 'hot': '0', 'status_uid': '1640337222', 'content_ext': '', 'ip': '223.72.244.6', 'media_type': '0', 'config': 'wb_verified=0&wb_screen_name=街道办张主任&wb_cmnt_type=comment_status&wb_user_id=6335349752&wb_description=&area=北京&wb_parent=&wb_profile_img=http%3A%2F%2Ftvax3.sinaimg.cn%2Fcrop.0.0.1024.1024.50%2F006UKtSwly1fu2cidcr2nj30sg0sgqa0.jpg&wb_time=2018-08-16 13:44:59&wb_comment_id=4273638569422852', 'channel': 'cj', 'comment_mid': '0', 'status': 'M_PASWAIT', 'openid': '', 'newsid_source': '', 'parent': '', 'status_cmnt_mid': '4273638569422852', 'parent_profile_img': '', 'news_mid': '0', 'parent_nick': '', 'newsid': 'comos-hhvciiv7815535', 'parent_uid': '0', 'thread_mid': '0', 'thread': '', 'level': '0', 'against': '1534398307', 'usertype': 'wb', 'length': '30', 'profile_img': 'http://tvax3.sinaimg.cn/crop.0.0.1024.1024.50/006UKtSwly1fu2cidcr2nj30sg0sgqa0.jpg', 'time': '2018-08-16 13:45:07', 'login_type': '0', 'audio': '', 'agree': '16'}], '5B7AACD0-DF683F5A-9E76B555-901-904': [{'comment_imgs': '', 'parent_mid': '0', 'news_mid_source': '0', 'rank': '0', 'mid': '5B761214-DAC72BF0-48A9D835-901-868', 'video': '', 'vote': '0', 'uid': '1219090485', 'area': '湖北武汉', 'channel_source': '', 'content': '这个店口味还行，不过短期内是不会再去了。当然并非出于爱国，只是比较懒不想跑[二哈][二哈][二哈]', 'nick': '双面H', 'hot': '0', 'status_uid': '2462605080', 'content_ext': '', 'ip': '218.199.43.240', 'media_type': '0', 'config': 'wb_verified=0&wb_screen_name=双面H&wb_cmnt_type=comment_status&wb_user_id=1219090485&wb_description=&area=湖北武汉&wb_parent=&wb_profile_img=http%3A%2F%2Ftva1.sinaimg.cn%2Fcrop.0.0.540.540.50%2F48a9d835jw8ewnc0j9msgj20f00f03zh.jpg&wb_time=2018-08-17 08:08:44&wb_comment_id=4273916345902184', 'channel': 'cj', 'comment_mid': '0', 'status': 'M_PASWAIT', 'openid': '', 'newsid_source': '', 'parent': '', 'status_cmnt_mid': '4273916345902184', 'parent_profile_img': '', 'news_mid': '0', 'parent_nick': '', 'newsid': 'comos-hhvciiv7815535', 'parent_uid': '0', 'thread_mid': '0', 'thread': '', 'level': '0', 'against': '1534464534', 'usertype': 'wb', 'length': '49', 'profile_img': 'http://tva1.sinaimg.cn/crop.0.0.540.540.50/48a9d835jw8ewnc0j9msgj20f00f03zh.jpg', 'time': '2018-08-17 08:08:54', 'login_type': '0', 'audio': '', 'agree': '0'}, {'comment_imgs': '', 'parent_mid': '0', 'news_mid_source': '0', 'rank': '0', 'mid': '5B77A126-7588294E-9E76B555-901-904', 'video': '', 'vote': '0', 'uid': '2658579797', 'area': '广东广州', 'channel_source': '', 'content': '这样也不能显出你突出，幼稚', 'nick': '半月kodachi', 'hot': '0', 'status_uid': '2462605080', 'content_ext': '', 'ip': '117.136.41.78', 'media_type': '0', 'config': 'wb_verified=0&wb_screen_name=半月kodachi&wb_cmnt_type=comment_status&wb_user_id=2658579797&wb_description=&area=广东广州&wb_parent=&wb_profile_img=http%3A%2F%2Ftva2.sinaimg.cn%2Fcrop.0.0.180.180.50%2F9e76b555jw8e7cxmgk7ktj2050050aa0.jpg&wb_time=2018-08-18 12:31:32&wb_comment_id=4274344866009449&p_nick=双面H&p_uid=1219090485', 'channel': 'cj', 'comment_mid': '0', 'status': 'M_PASWAIT', 'openid': '', 'newsid_source': '', 'parent': '5B761214-DAC72BF0-48A9D835-901-868', 'status_cmnt_mid': '4274344866009449', 'parent_profile_img': 'http://tva1.sinaimg.cn/crop.0.0.540.540.50/48a9d835jw8ewnc0j9msgj20f00f03zh.jpg', 'news_mid': '0', 'parent_nick': '双面H', 'newsid': 'comos-hhvciiv7815535', 'parent_uid': '1219090485', 'thread_mid': '0', 'thread': '5B761214-DAC72BF0-48A9D835-901-868', 'level': '1', 'against': '1534566696', 'usertype': 'wb', 'length': '20', 'profile_img': 'http://tva2.sinaimg.cn/crop.0.0.180.180.50/9e76b555jw8e7cxmgk7ktj2050050aa0.jpg', 'time': '2018-08-18 12:31:36', 'login_type': '0', 'audio': '', 'agree': '0'}, {'comment_imgs': '', 'parent_mid': '0', 'news_mid_source': '0', 'rank': '0', 'mid': '5B77E6D2-7139B7A2-48A9D835-901-868', 'video': '', 'vote': '0', 'uid': '1219090485', 'area': '湖北武汉', 'channel_source': '', 'content': '回复 @半月kodachi:我纯粹是因为距离远懒得跑。你又在秀什么存在感。', 'nick': '双面H', 'hot': '0', 'status_uid': '2462605080', 'content_ext': '', 'ip': '113.57.183.162', 'media_type': '0', 'config': 'wb_verified=0&wb_screen_name=双面H&wb_cmnt_type=comment_status&wb_user_id=1219090485&wb_description=&area=湖北武汉&wb_parent=&wb_profile_img=http%3A%2F%2Ftva1.sinaimg.cn%2Fcrop.0.0.540.540.50%2F48a9d835jw8ewnc0j9msgj20f00f03zh.jpg&wb_time=2018-08-18 17:28:41&wb_comment_id=4274419646145182&p_nick=半月kodachi&p_uid=2658579797', 'channel': 'cj', 'comment_mid': '0', 'status': 'M_PASWAIT', 'openid': '', 'newsid_source': '', 'parent': '5B77A126-7588294E-9E76B555-901-904', 'status_cmnt_mid': '4274419646145182', 'parent_profile_img': 'http://tva2.sinaimg.cn/crop.0.0.180.180.50/9e76b555jw8e7cxmgk7ktj2050050aa0.jpg', 'news_mid': '0', 'parent_nick': '半月kodachi', 'newsid': 'comos-hhvciiv7815535', 'parent_uid': '2658579797', 'thread_mid': '0', 'thread': '5B761214-DAC72BF0-48A9D835-901-868', 'level': '2', 'against': '1534584534', 'usertype': 'wb', 'length': '37', 'profile_img': 'http://tva1.sinaimg.cn/crop.0.0.540.540.50/48a9d835jw8ewnc0j9msgj20f00f03zh.jpg', 'time': '2018-08-18 17:28:55', 'login_type': '0', 'audio': '', 'agree': '0'}], '5B76924E-6FA50821-3CF093F5-901-927': [{'comment_imgs': '', 'parent_mid': '0', 'news_mid_source': '0', 'rank': '302', 'mid': '5B757DE8-75885DA5-6F831B65-901-8EE', 'video': '', 'vote': '0', 'uid': '1870863205', 'area': '山东济南', 'channel_source': '', 'content': '蔡小姐就顺路买了杯咖啡签了个名，至于么。', 'nick': 'kdjwenzi', 'hot': '0', 'status_uid': '2462605080', 'content_ext': '', 'ip': '117.136.93.165', 'media_type': '0', 'config': 'wb_verified=0&wb_screen_name=kdjwenzi&wb_cmnt_type=comment_status&wb_user_id=1870863205&wb_description=&area=山东济南&wb_parent=&wb_profile_img=http%3A%2F%2Ftva1.sinaimg.cn%2Fcrop.0.194.750.750.50%2F6f831b65jw8f6a7hrs82kj20ku0vn0xf.jpg&wb_time=2018-08-16 21:36:25&wb_comment_id=4273757214252210', 'channel': 'cj', 'comment_mid': '0', 'status': 'M_PASWAIT', 'openid': '', 'newsid_source': '', 'parent': '', 'status_cmnt_mid': '4273757214252210', 'parent_profile_img': '', 'news_mid': '0', 'parent_nick': '', 'newsid': 'comos-hhvciiv7815535', 'parent_uid': '0', 'thread_mid': '0', 'thread': '', 'level': '0', 'against': '1534426601', 'usertype': 'wb', 'length': '20', 'profile_img': 'http://tva1.sinaimg.cn/crop.0.194.750.750.50/6f831b65jw8f6a7hrs82kj20ku0vn0xf.jpg', 'time': '2018-08-16 21:36:41', 'login_type': '0', 'audio': '', 'agree': '8'}], '5B7BAF26-75882932-9E76B555-901-904': [{'comment_imgs': '', 'parent_mid': '0', 'news_mid_source': '0', 'rank': '0', 'mid': '5B761214-DAC72BF0-48A9D835-901-868', 'video': '', 'vote': '0', 'uid': '1219090485', 'area': '湖北武汉', 'channel_source': '', 'content': '这个店口味还行，不过短期内是不会再去了。当然并非出于爱国，只是比较懒不想跑[二哈][二哈][二哈]', 'nick': '双面H', 'hot': '0', 'status_uid': '2462605080', 'content_ext': '', 'ip': '218.199.43.240', 'media_type': '0', 'config': 'wb_verified=0&wb_screen_name=双面H&wb_cmnt_type=comment_status&wb_user_id=1219090485&wb_description=&area=湖北武汉&wb_parent=&wb_profile_img=http%3A%2F%2Ftva1.sinaimg.cn%2Fcrop.0.0.540.540.50%2F48a9d835jw8ewnc0j9msgj20f00f03zh.jpg&wb_time=2018-08-17 08:08:44&wb_comment_id=4273916345902184', 'channel': 'cj', 'comment_mid': '0', 'status': 'M_PASWAIT', 'openid': '', 'newsid_source': '', 'parent': '', 'status_cmnt_mid': '4273916345902184', 'parent_profile_img': '', 'news_mid': '0', 'parent_nick': '', 'newsid': 'comos-hhvciiv7815535', 'parent_uid': '0', 'thread_mid': '0', 'thread': '', 'level': '0', 'against': '1534464534', 'usertype': 'wb', 'length': '49', 'profile_img': 'http://tva1.sinaimg.cn/crop.0.0.540.540.50/48a9d835jw8ewnc0j9msgj20f00f03zh.jpg', 'time': '2018-08-17 08:08:54', 'login_type': '0', 'audio': '', 'agree': '0'}, {'comment_imgs': '', 'parent_mid': '0', 'news_mid_source': '0', 'rank': '0', 'mid': '5B77A126-7588294E-9E76B555-901-904', 'video': '', 'vote': '0', 'uid': '2658579797', 'area': '广东广州', 'channel_source': '', 'content': '这样也不能显出你突出，幼稚', 'nick': '半月kodachi', 'hot': '0', 'status_uid': '2462605080', 'content_ext': '', 'ip': '117.136.41.78', 'media_type': '0', 'config': 'wb_verified=0&wb_screen_name=半月kodachi&wb_cmnt_type=comment_status&wb_user_id=2658579797&wb_description=&area=广东广州&wb_parent=&wb_profile_img=http%3A%2F%2Ftva2.sinaimg.cn%2Fcrop.0.0.180.180.50%2F9e76b555jw8e7cxmgk7ktj2050050aa0.jpg&wb_time=2018-08-18 12:31:32&wb_comment_id=4274344866009449&p_nick=双面H&p_uid=1219090485', 'channel': 'cj', 'comment_mid': '0', 'status': 'M_PASWAIT', 'openid': '', 'newsid_source': '', 'parent': '5B761214-DAC72BF0-48A9D835-901-868', 'status_cmnt_mid': '4274344866009449', 'parent_profile_img': 'http://tva1.sinaimg.cn/crop.0.0.540.540.50/48a9d835jw8ewnc0j9msgj20f00f03zh.jpg', 'news_mid': '0', 'parent_nick': '双面H', 'newsid': 'comos-hhvciiv7815535', 'parent_uid': '1219090485', 'thread_mid': '0', 'thread': '5B761214-DAC72BF0-48A9D835-901-868', 'level': '1', 'against': '1534566696', 'usertype': 'wb', 'length': '20', 'profile_img': 'http://tva2.sinaimg.cn/crop.0.0.180.180.50/9e76b555jw8e7cxmgk7ktj2050050aa0.jpg', 'time': '2018-08-18 12:31:36', 'login_type': '0', 'audio': '', 'agree': '0'}, {'comment_imgs': '', 'parent_mid': '0', 'news_mid_source': '0', 'rank': '0', 'mid': '5B77E6D2-7139B7A2-48A9D835-901-868', 'video': '', 'vote': '0', 'uid': '1219090485', 'area': '湖北武汉', 'channel_source': '', 'content': '回复 @半月kodachi:我纯粹是因为距离远懒得跑。你又在秀什么存在感。', 'nick': '双面H', 'hot': '0', 'status_uid': '2462605080', 'content_ext': '', 'ip': '113.57.183.162', 'media_type': '0', 'config': 'wb_verified=0&wb_screen_name=双面H&wb_cmnt_type=comment_status&wb_user_id=1219090485&wb_description=&area=湖北武汉&wb_parent=&wb_profile_img=http%3A%2F%2Ftva1.sinaimg.cn%2Fcrop.0.0.540.540.50%2F48a9d835jw8ewnc0j9msgj20f00f03zh.jpg&wb_time=2018-08-18 17:28:41&wb_comment_id=4274419646145182&p_nick=半月kodachi&p_uid=2658579797', 'channel': 'cj', 'comment_mid': '0', 'status': 'M_PASWAIT', 'openid': '', 'newsid_source': '', 'parent': '5B77A126-7588294E-9E76B555-901-904', 'status_cmnt_mid': '4274419646145182', 'parent_profile_img': 'http://tva2.sinaimg.cn/crop.0.0.180.180.50/9e76b555jw8e7cxmgk7ktj2050050aa0.jpg', 'news_mid': '0', 'parent_nick': '半月kodachi', 'newsid': 'comos-hhvciiv7815535', 'parent_uid': '2658579797', 'thread_mid': '0', 'thread': '5B761214-DAC72BF0-48A9D835-901-868', 'level': '2', 'against': '1534584534', 'usertype': 'wb', 'length': '37', 'profile_img': 'http://tva1.sinaimg.cn/crop.0.0.540.540.50/48a9d835jw8ewnc0j9msgj20f00f03zh.jpg', 'time': '2018-08-18 17:28:55', 'login_type': '0', 'audio': '', 'agree': '0'}, {'comment_imgs': '', 'parent_mid': '0', 'news_mid_source': '0', 'rank': '0', 'mid': '5B7AACD0-DF683F5A-9E76B555-901-904', 'video': '', 'vote': '0', 'uid': '2658579797', 'area': '广东', 'channel_source': '', 'content': '我不需要存在感。幼稚', 'nick': '半月kodachi', 'hot': '0', 'status_uid': '2462605080', 'content_ext': '', 'ip': '223.104.63.90', 'media_type': '0', 'config': 'wb_verified=0&wb_screen_name=半月kodachi&wb_cmnt_type=comment_status&wb_user_id=2658579797&wb_description=&area=广东&wb_parent=&wb_profile_img=http%3A%2F%2Ftva2.sinaimg.cn%2Fcrop.0.0.180.180.50%2F9e76b555jw8e7cxmgk7ktj2050050aa0.jpg&wb_time=2018-08-20 19:58:04&wb_comment_id=4275182015164981&p_nick=双面H&p_uid=1219090485', 'channel': 'cj', 'comment_mid': '0', 'status': 'M_PASWAIT', 'openid': '', 'newsid_source': '', 'parent': '5B77E6D2-7139B7A2-48A9D835-901-868', 'status_cmnt_mid': '4275182015164981', 'parent_profile_img': 'http://tva1.sinaimg.cn/crop.0.0.540.540.50/48a9d835jw8ewnc0j9msgj20f00f03zh.jpg', 'news_mid': '0', 'parent_nick': '双面H', 'newsid': 'comos-hhvciiv7815535', 'parent_uid': '1219090485', 'thread_mid': '0', 'thread': '5B761214-DAC72BF0-48A9D835-901-868', 'level': '3', 'against': '1534766288', 'usertype': 'wb', 'length': '17', 'profile_img': 'http://tva2.sinaimg.cn/crop.0.0.180.180.50/9e76b555jw8e7cxmgk7ktj2050050aa0.jpg', 'time': '2018-08-20 19:58:08', 'login_type': '0', 'audio': '', 'agree': '0'}, {'comment_imgs': '', 'parent_mid': '0', 'news_mid_source': '0', 'rank': '0', 'mid': '5B7AC164-DAC72BC5-48A9D835-901-868', 'video': '', 'vote': '0', 'uid': '1219090485', 'area': '湖北武汉', 'channel_source': '', 'content': '回复 @半月kodachi:那你蹦跶出来文不对题是干嘛？智商水平所致？那倒是说得通。', 'nick': '双面H', 'hot': '0', 'status_uid': '2462605080', 'content_ext': '', 'ip': '218.199.43.197', 'media_type': '0', 'config': 'wb_verified=0&wb_screen_name=双面H&wb_cmnt_type=comment_status&wb_user_id=1219090485&wb_description=&area=湖北武汉&wb_parent=&wb_profile_img=http%3A%2F%2Ftva1.sinaimg.cn%2Fcrop.0.0.540.540.50%2F48a9d835jw8ewnc0j9msgj20f00f03zh.jpg&wb_time=2018-08-20 21:25:41&wb_comment_id=4275204064347828&p_nick=半月kodachi&p_uid=2658579797', 'channel': 'cj', 'comment_mid': '0', 'status': 'M_PASWAIT', 'openid': '', 'newsid_source': '', 'parent': '5B7AACD0-DF683F5A-9E76B555-901-904', 'status_cmnt_mid': '4275204064347828', 'parent_profile_img': 'http://tva2.sinaimg.cn/crop.0.0.180.180.50/9e76b555jw8e7cxmgk7ktj2050050aa0.jpg', 'news_mid': '0', 'parent_nick': '半月kodachi', 'newsid': 'comos-hhvciiv7815535', 'parent_uid': '2658579797', 'thread_mid': '0', 'thread': '5B761214-DAC72BF0-48A9D835-901-868', 'level': '4', 'against': '1534771556', 'usertype': 'wb', 'length': '42', 'profile_img': 'http://tva1.sinaimg.cn/crop.0.0.540.540.50/48a9d835jw8ewnc0j9msgj20f00f03zh.jpg', 'time': '2018-08-20 21:25:56', 'login_type': '0', 'audio': '', 'agree': '0'}, {'comment_imgs': '', 'parent_mid': '0', 'news_mid_source': '0', 'rank': '0', 'mid': '5B7B7D0E-75882932-9E76B555-901-904', 'video': '', 'vote': '0', 'uid': '2658579797', 'area': '广东广州', 'channel_source': '', 'content': '没人在乎你，即使你假装自己和别人不一样。但是你年轻，思想不成型。幼稚。', 'nick': '半月kodachi', 'hot': '0', 'status_uid': '2462605080', 'content_ext': '', 'ip': '117.136.41.50', 'media_type': '0', 'config': 'wb_verified=0&wb_screen_name=半月kodachi&wb_cmnt_type=comment_status&wb_user_id=2658579797&wb_description=&area=广东广州&wb_parent=&wb_profile_img=http%3A%2F%2Ftva2.sinaimg.cn%2Fcrop.0.0.180.180.50%2F9e76b555jw8e7cxmgk7ktj2050050aa0.jpg&wb_time=2018-08-21 10:46:20&wb_comment_id=4275405554971692&p_nick=双面H&p_uid=1219090485', 'channel': 'cj', 'comment_mid': '0', 'status': 'M_PASWAIT', 'openid': '', 'newsid_source': '', 'parent': '5B7AC164-DAC72BC5-48A9D835-901-868', 'status_cmnt_mid': '4275405554971692', 'parent_profile_img': 'http://tva1.sinaimg.cn/crop.0.0.540.540.50/48a9d835jw8ewnc0j9msgj20f00f03zh.jpg', 'news_mid': '0', 'parent_nick': '双面H', 'newsid': 'comos-hhvciiv7815535', 'parent_uid': '1219090485', 'thread_mid': '0', 'thread': '5B761214-DAC72BF0-48A9D835-901-868', 'level': '5', 'against': '1534819601', 'usertype': 'wb', 'length': '42', 'profile_img': 'http://tva2.sinaimg.cn/crop.0.0.180.180.50/9e76b555jw8e7cxmgk7ktj2050050aa0.jpg', 'time': '2018-08-21 10:46:42', 'login_type': '0', 'audio': '', 'agree': '0'}, {'comment_imgs': '', 'parent_mid': '0', 'news_mid_source': '0', 'rank': '0', 'mid': '5B7B7F8F-DAC72BC5-48A9D835-901-868', 'video': '', 'vote': '0', 'uid': '1219090485', 'area': '湖北武汉', 'channel_source': '', 'content': '回复 @半月kodachi:你这算是自言自语吧，对自己认识得挺清楚。', 'nick': '双面H', 'hot': '0', 'status_uid': '2462605080', 'content_ext': '', 'ip': '218.199.43.197', 'media_type': '0', 'config': 'wb_verified=0&wb_screen_name=双面H&wb_cmnt_type=comment_status&wb_user_id=1219090485&wb_description=&area=湖北武汉&wb_parent=&wb_profile_img=http%3A%2F%2Ftva1.sinaimg.cn%2Fcrop.0.0.540.540.50%2F48a9d835jw8ewnc0j9msgj20f00f03zh.jpg&wb_time=2018-08-21 10:57:21&wb_comment_id=4275408326653909&p_nick=半月kodachi&p_uid=2658579797', 'channel': 'cj', 'comment_mid': '0', 'status': 'M_PASWAIT', 'openid': '', 'newsid_source': '', 'parent': '5B7B7D0E-75882932-9E76B555-901-904', 'status_cmnt_mid': '4275408326653909', 'parent_profile_img': 'http://tva2.sinaimg.cn/crop.0.0.180.180.50/9e76b555jw8e7cxmgk7ktj2050050aa0.jpg', 'news_mid': '0', 'parent_nick': '半月kodachi', 'newsid': 'comos-hhvciiv7815535', 'parent_uid': '2658579797', 'thread_mid': '0', 'thread': '5B761214-DAC72BF0-48A9D835-901-868', 'level': '6', 'against': '1534820243', 'usertype': 'wb', 'length': '34', 'profile_img': 'http://tva1.sinaimg.cn/crop.0.0.540.540.50/48a9d835jw8ewnc0j9msgj20f00f03zh.jpg', 'time': '2018-08-21 10:57:23', 'login_type': '0', 'audio': '', 'agree': '0'}], '5B7B9C6B-3B7856A8-16B2193F6-901-92E': [{'comment_imgs': '', 'parent_mid': '0', 'news_mid_source': '0', 'rank': '9', 'mid': '5B75199A-1326436-1384F245E-901-834', 'video': '', 'vote': '0', 'uid': '5239678046', 'area': '宁夏银川', 'channel_source': '', 'content': '典型的赚大陆的钱支持台独，坚决清出大陆市场！', 'nick': '塞上陶然哥', 'hot': '0', 'status_uid': '1640337222', 'content_ext': '', 'ip': '1.50.100.54', 'media_type': '0', 'config': 'wb_verified=0&wb_screen_name=塞上陶然哥&wb_cmnt_type=comment_status&wb_user_id=5239678046&wb_description=&area=宁夏银川&wb_parent=&wb_profile_img=http%3A%2F%2Ftva4.sinaimg.cn%2Fcrop.0.0.720.720.50%2F005IB9Cejw8eizjebplv9j30k00k0tah.jpg&wb_time=2018-08-16 14:28:11&wb_comment_id=4273649446083595', 'channel': 'cj', 'comment_mid': '0', 'status': 'M_PASS', 'openid': '', 'newsid_source': '', 'parent': '', 'status_cmnt_mid': '4273649446083595', 'parent_profile_img': '', 'news_mid': '0', 'parent_nick': '', 'newsid': 'comos-hhvciiv7815535', 'parent_uid': '0', 'thread_mid': '0', 'thread': '', 'level': '0', 'against': '1534400924', 'usertype': 'wb', 'length': '22', 'profile_img': 'http://tva4.sinaimg.cn/crop.0.0.720.720.50/005IB9Cejw8eizjebplv9j30k00k0tah.jpg', 'time': '2018-08-16 14:28:44', 'login_type': '0', 'audio': '', 'agree': '9'}]}\n"
     ]
    }
   ],
   "source": [
    "replydict = df.replydict.values.tolist()\n",
    "print(len(replydict))\n",
    "print(type(replydict[0])) # str 字符串格式\n",
    "print(replydict[0]) # 截取前200字符展示"
   ]
  },
  {
   "cell_type": "code",
   "execution_count": 6,
   "metadata": {
    "collapsed": false
   },
   "outputs": [
    {
     "data": {
      "text/html": [
       "<div>\n",
       "<style scoped>\n",
       "    .dataframe tbody tr th:only-of-type {\n",
       "        vertical-align: middle;\n",
       "    }\n",
       "\n",
       "    .dataframe tbody tr th {\n",
       "        vertical-align: top;\n",
       "    }\n",
       "\n",
       "    .dataframe thead th {\n",
       "        text-align: right;\n",
       "    }\n",
       "</style>\n",
       "<table border=\"1\" class=\"dataframe\">\n",
       "  <thead>\n",
       "    <tr style=\"text-align: right;\">\n",
       "      <th></th>\n",
       "      <th>page</th>\n",
       "      <th>jsons</th>\n",
       "      <th>cmntlist</th>\n",
       "      <th>replydict</th>\n",
       "    </tr>\n",
       "  </thead>\n",
       "  <tbody>\n",
       "    <tr>\n",
       "      <th>0</th>\n",
       "      <td>2</td>\n",
       "      <td>{'result': {'status': {'msg': '', 'code': 0}, ...</td>\n",
       "      <td>[{'comment_imgs': '', 'parent_mid': '0', 'news...</td>\n",
       "      <td>{'5B77E6D2-7139B7A2-48A9D835-901-868': [{'comm...</td>\n",
       "    </tr>\n",
       "    <tr>\n",
       "      <th>1</th>\n",
       "      <td>3</td>\n",
       "      <td>{'result': {'status': {'msg': '', 'code': 0}, ...</td>\n",
       "      <td>[{'comment_imgs': '', 'parent_mid': '0', 'news...</td>\n",
       "      <td>{'5B763717-DF685A7F-A114BB11-901-95C': [{'comm...</td>\n",
       "    </tr>\n",
       "    <tr>\n",
       "      <th>2</th>\n",
       "      <td>4</td>\n",
       "      <td>{'result': {'status': {'msg': '', 'code': 0}, ...</td>\n",
       "      <td>[{'comment_imgs': '', 'parent_mid': '0', 'news...</td>\n",
       "      <td>{'5B759F56-3D8DFC25-15590ED5C-901-853': [{'com...</td>\n",
       "    </tr>\n",
       "    <tr>\n",
       "      <th>3</th>\n",
       "      <td>5</td>\n",
       "      <td>{'result': {'status': {'msg': '', 'code': 0}, ...</td>\n",
       "      <td>[{'comment_imgs': '', 'parent_mid': '0', 'news...</td>\n",
       "      <td>{'5B75813E-705363E3-3E773C37-901-8A4': [{'comm...</td>\n",
       "    </tr>\n",
       "    <tr>\n",
       "      <th>4</th>\n",
       "      <td>6</td>\n",
       "      <td>{'result': {'status': {'msg': '', 'code': 0}, ...</td>\n",
       "      <td>[{'comment_imgs': '', 'parent_mid': '0', 'news...</td>\n",
       "      <td>{'5B755E0B-7AEE51FA-16BB08F9E-901-7DC': [{'com...</td>\n",
       "    </tr>\n",
       "  </tbody>\n",
       "</table>\n",
       "</div>"
      ],
      "text/plain": [
       "   page                                              jsons  \\\n",
       "0     2  {'result': {'status': {'msg': '', 'code': 0}, ...   \n",
       "1     3  {'result': {'status': {'msg': '', 'code': 0}, ...   \n",
       "2     4  {'result': {'status': {'msg': '', 'code': 0}, ...   \n",
       "3     5  {'result': {'status': {'msg': '', 'code': 0}, ...   \n",
       "4     6  {'result': {'status': {'msg': '', 'code': 0}, ...   \n",
       "\n",
       "                                            cmntlist  \\\n",
       "0  [{'comment_imgs': '', 'parent_mid': '0', 'news...   \n",
       "1  [{'comment_imgs': '', 'parent_mid': '0', 'news...   \n",
       "2  [{'comment_imgs': '', 'parent_mid': '0', 'news...   \n",
       "3  [{'comment_imgs': '', 'parent_mid': '0', 'news...   \n",
       "4  [{'comment_imgs': '', 'parent_mid': '0', 'news...   \n",
       "\n",
       "                                           replydict  \n",
       "0  {'5B77E6D2-7139B7A2-48A9D835-901-868': [{'comm...  \n",
       "1  {'5B763717-DF685A7F-A114BB11-901-95C': [{'comm...  \n",
       "2  {'5B759F56-3D8DFC25-15590ED5C-901-853': [{'com...  \n",
       "3  {'5B75813E-705363E3-3E773C37-901-8A4': [{'comm...  \n",
       "4  {'5B755E0B-7AEE51FA-16BB08F9E-901-7DC': [{'com...  "
      ]
     },
     "execution_count": 6,
     "metadata": {},
     "output_type": "execute_result"
    }
   ],
   "source": [
    "df['jsons'] = df.jsons.apply(lambda x: eval(x)) \n",
    "df['cmntlist'] = df.cmntlist.apply(lambda x: eval(x))\n",
    "df['replydict'] = df.replydict.apply(lambda x: eval(x))\n",
    "df.head()"
   ]
  },
  {
   "cell_type": "code",
   "execution_count": 7,
   "metadata": {
    "collapsed": false
   },
   "outputs": [
    {
     "name": "stdout",
     "output_type": "stream",
     "text": [
      "13 20 {'comment_imgs': '', 'parent_mid': '0', 'news_mid_source': '0', 'rank': '0', 'mid': '5B7C3D11-6E576DF0-16B2193F6-901-92E', 'video': '', 'vote': '0', 'uid': '6092329974', 'area': '福建厦门', 'channel_source': '', 'content': '打从心底瞧不起 这比抵制还不如！沒文化唄', 'nick': '这辈子不会放过西西', 'hot': '0', 'status_uid': '1640337222', 'content_ext': '', 'ip': '110.87.109.240', 'media_type': '0', 'config': 'wb_verified=0&wb_screen_name=这辈子不会放过西西&wb_cmnt_type=comment_status&wb_user_id=6092329974&wb_description=&area=福建厦门&wb_parent=&wb_profile_img=http%3A%2F%2Ftvax3.sinaimg.cn%2Fcrop.0.0.512.512.50%2F006EiNkGly8fp4ngygtzcj30e80e8jrn.jpg&wb_time=2018-08-22 00:25:41&wb_comment_id=4275611750745759&p_nick=塞上陶然哥&p_uid=5239678046', 'channel': 'cj', 'comment_mid': '0', 'status': 'M_PASWAIT', 'openid': '', 'newsid_source': '', 'parent': '5B7BBF2E-1326436-1384F245E-901-834', 'status_cmnt_mid': '4275611750745759', 'parent_profile_img': 'http://tva4.sinaimg.cn/crop.0.0.720.720.50/005IB9Cejw8eizjebplv9j30k00k0tah.jpg', 'news_mid': '0', 'parent_nick': '塞上陶然哥', 'newsid': 'comos-hhvciiv7815535', 'parent_uid': '5239678046', 'thread_mid': '0', 'thread': '5B75199A-1326436-1384F245E-901-834', 'level': '3', 'against': '1534868756', 'usertype': 'wb', 'length': '29', 'profile_img': 'http://tvax3.sinaimg.cn/crop.0.0.512.512.50/006EiNkGly8fp4ngygtzcj30e80e8jrn.jpg', 'time': '2018-08-22 00:25:56', 'login_type': '0', 'audio': '', 'agree': '0'}\n"
     ]
    }
   ],
   "source": [
    "cmntlists = df['cmntlist'].values.tolist()\n",
    "print(len(cmntlists),len(cmntlists[0]),cmntlists[0][0])"
   ]
  },
  {
   "cell_type": "code",
   "execution_count": 8,
   "metadata": {
    "collapsed": false
   },
   "outputs": [
    {
     "name": "stdout",
     "output_type": "stream",
     "text": [
      "167\n",
      "{'comment_imgs': '', 'parent_mid': '0', 'news_mid_source': '0', 'rank': '0', 'mid': '5B7C3D11-6E576DF0-16B2193F6-901-92E', 'video': '', 'vote': '0', 'uid': '6092329974', 'area': '福建厦门', 'channel_source': '', 'content': '打从心底瞧不起 这比抵制还不如！沒文化唄', 'nick': '这辈子不会放过西西', 'hot': '0', 'status_uid': '1640337222', 'content_ext': '', 'ip': '110.87.109.240', 'media_type': '0', 'config': 'wb_verified=0&wb_screen_name=这辈子不会放过西西&wb_cmnt_type=comment_status&wb_user_id=6092329974&wb_description=&area=福建厦门&wb_parent=&wb_profile_img=http%3A%2F%2Ftvax3.sinaimg.cn%2Fcrop.0.0.512.512.50%2F006EiNkGly8fp4ngygtzcj30e80e8jrn.jpg&wb_time=2018-08-22 00:25:41&wb_comment_id=4275611750745759&p_nick=塞上陶然哥&p_uid=5239678046', 'channel': 'cj', 'comment_mid': '0', 'status': 'M_PASWAIT', 'openid': '', 'newsid_source': '', 'parent': '5B7BBF2E-1326436-1384F245E-901-834', 'status_cmnt_mid': '4275611750745759', 'parent_profile_img': 'http://tva4.sinaimg.cn/crop.0.0.720.720.50/005IB9Cejw8eizjebplv9j30k00k0tah.jpg', 'news_mid': '0', 'parent_nick': '塞上陶然哥', 'newsid': 'comos-hhvciiv7815535', 'parent_uid': '5239678046', 'thread_mid': '0', 'thread': '5B75199A-1326436-1384F245E-901-834', 'level': '3', 'against': '1534868756', 'usertype': 'wb', 'length': '29', 'profile_img': 'http://tvax3.sinaimg.cn/crop.0.0.512.512.50/006EiNkGly8fp4ngygtzcj30e80e8jrn.jpg', 'time': '2018-08-22 00:25:56', 'login_type': '0', 'audio': '', 'agree': '0'}\n"
     ]
    }
   ],
   "source": [
    "cmntlist = sum(cmntlists, [])\n",
    "print(len(cmntlist)) \n",
    "print(cmntlist[0])"
   ]
  },
  {
   "cell_type": "code",
   "execution_count": 9,
   "metadata": {
    "collapsed": false
   },
   "outputs": [
    {
     "name": "stdout",
     "output_type": "stream",
     "text": [
      "110.87.109.240 福建厦门\n",
      "59.71.151.149 湖北武汉\n",
      "1.50.100.54 宁夏银川\n",
      "117.136.41.50 广东广州\n",
      "59.120.86.168 台湾台中\n",
      "59.120.86.168 台湾台中\n",
      "218.199.43.197 湖北武汉\n",
      "117.136.41.50 广东广州\n",
      "117.136.41.50 广东广州\n",
      "218.199.43.197 湖北武汉\n",
      "223.104.63.90 广东\n"
     ]
    }
   ],
   "source": [
    "for num,cmnt in enumerate(cmntlist):\n",
    "    print(cmnt['ip'], cmnt['area'])\n",
    "    if num==10:\n",
    "        break"
   ]
  },
  {
   "cell_type": "code",
   "execution_count": 10,
   "metadata": {
    "collapsed": false,
    "scrolled": true
   },
   "outputs": [
    {
     "name": "stdout",
     "output_type": "stream",
     "text": [
      "<!DOCTYPE html>\n",
      "<html>\n",
      "<head>\n",
      "<meta http-equiv=\"Content-Type\" content=\"text/html; charset=utf-8\">\n",
      "<link href=\"//s.ip-cdn.com\" rel=\"dns-prefetch\" />\n",
      "<title>110.87.109.240 - IP.cn - IP 地址查询 | 地理位置 | 手机归属地</title>\n",
      "<meta name=\"robots\" content=\"all\" />\n",
      "<meta name=\"Keywords\" content=\"ip,ip查询,手机ip,本机ip,外网ip,ip地址查询,手机号,归属地,110.87.109.240\">\n",
      "<meta name=\"Description\" content=\"专业本机 IP 地址查询、手机 IP 地址、地理位置查询、IP 数据库、手机号归属地查询、电话号码黄页查询，可查广告、骚扰、快递、银行、保险、房地产、中介电话。\">\n",
      "<link href='//s.ip-cdn.com/css/bootstrap.min.css' rel='stylesheet' type='text/css'>\n",
      "<meta name=\"viewport\" content=\"width=device-width, minimum-scale=0.5\">\n",
      "<meta name=\"format-detection\" content=\"telephone=no\">\n",
      "<!--[if lt IE 8]>\n",
      "<script src=\"//s.ip-cdn.com/js/ie8.js\"></script>\n",
      "<![endif]-->\n",
      "<link href='//s.ip-cdn.com/css/main.css' rel='stylesheet' type='text/css'>\n",
      "</head>\n",
      "<body onLoad=\"document.fs.ip.focus()\">\n",
      "<div class=\"container-fluid\">\n",
      "\t<div class=\"header\">\n",
      "\t\t<a href=\"/\"><img src=\"//s.ip-cdn.com/img/logo.gif\"></a>\n",
      "\t</div>\n",
      "\n",
      "\t<div class=\"mainbar\">\n",
      "\t\t<ul class=\"nav nav-pills center-pills\">\n",
      "\t\t\t<li class=\"active\"><a href=\"/\">IP 查询</a></li>\n",
      "\t\t\t<li><a href=\"db.php\">手机、电话号码数据库</a></li>\n",
      "\t\t\t<li><a href=\"dns.html\">DNS</a></li>\n",
      "\t\t\t<li><a href=\"chnroutes.html\">IP 列表</a></li>\n",
      "\t\t</ul>\n",
      "\t</div>\n",
      "\n",
      "\t<div class=\"searchform\">\n",
      "\t\t<form name=\"fs\" action=\"index.php\" method=\"GET\" class=\"form-search\">\n",
      "\t\t\t<input name=\"ip\" type=\"text\" placeholder=\"请输入要查询的域名或 IP 地址\" class=\"span3\">\n",
      "\t\t\t<input id=\"s\" type=\"submit\" class=\"btn btn-primary\" value=\"查询\">\n",
      "\t\t</form>\n",
      "\t</div>\n",
      "\t\n",
      "\t<div id=\"result\"><div class=\"well\"><p>您查询的 IP：<code>110.87.109.240</code></p><p>所在地理位置：<code>福建省厦门市 电信</code></p><p>GeoIP: Xiamen, Fujian, China</p><p>China Telecom fujian</p></div></div>\n",
      "\n",
      "\t<div><a href=\"https://qr.alipay.com/c1x02401cvduddhxqvfiz73\"><img src=\"//s.ip-cdn.com/img/al.jpg\"></a></div><br />\n",
      "\n",
      "        <div width=\"100%\" align=\"center\">\n",
      "\t\t<a href=\"https://www.dashangcloud.com/sh/87884f?body=https%3A%2F%2Fip.cn%2F\"><img src=\"//s.ip-cdn.com/img/ds.png\"></a>\n",
      "        </div>\n",
      "\t<div class=\"footer\">\n",
      "\t\t<p>©2006-2018 IP.cn <a href=\"http://www.miitbeian.gov.cn/\" target=\"_blank\">沪ICP备15005128号-3</a> <script src=\"https://s19.cnzz.com/stat.php?id=123770&web_id=123770\" language=\"JavaScript\"></script></p>\n",
      "\t</div>\n",
      "</div>\n",
      "</body>\n",
      "</html>\n",
      "\n"
     ]
    }
   ],
   "source": [
    "import requests\n",
    "def ip2loc(ip):\n",
    "    url = 'https://ip.cn/index.php?ip={}'.format(ip)\n",
    "    r = requests.get(url).text\n",
    "    return r\n",
    "text = ip2loc(cmntlist[0]['ip'])\n",
    "print(text)"
   ]
  },
  {
   "cell_type": "code",
   "execution_count": 11,
   "metadata": {
    "collapsed": false
   },
   "outputs": [
    {
     "name": "stdout",
     "output_type": "stream",
     "text": [
      "福建省厦门市 电信 * China Telecom fujian * GeoIP: Xiamen, Fujian, China\n"
     ]
    }
   ],
   "source": [
    "from lxml import etree\n",
    "html = etree.HTML(text)\n",
    "loc = html.xpath('//*[@id=\"result\"]/div/p[2]/code/text()')[0]\n",
    "tele = html.xpath('//div[@id=\"result\"]/div/p[4]/text()')[0]\n",
    "geo_ip = html.xpath('//div[@id=\"result\"]/div/p[3]/text()')[0]\n",
    "print(loc,'*',tele,'*',geo_ip)"
   ]
  },
  {
   "cell_type": "code",
   "execution_count": 12,
   "metadata": {
    "collapsed": false
   },
   "outputs": [
    {
     "name": "stdout",
     "output_type": "stream",
     "text": [
      "0 110.87.109.240 福建厦门 福建省厦门市 电信 * GeoIP: Xiamen, Fujian, China * China Telecom fujian\n",
      "1 59.71.151.149 湖北武汉 湖北省武汉市 中国地质大学 * GeoIP: Wuhan, Hubei, China * China University of Geosciences (Wuhan)\n",
      "2 1.50.100.54 宁夏银川 宁夏自治区银川市 电信 * GeoIP: Yinchuan, Ningxia, China * China Telecom ningxia\n",
      "3 117.136.41.50 广东广州 广东省 移动 * GeoIP: Guangzhou, Guangdong, China * China Mobile\n",
      "4 59.120.86.168 台湾台中 台湾省 中华电信 * GeoIP: Taichung, Taiwan * HiNet\n",
      "5 59.120.86.168 台湾台中 台湾省 中华电信 * GeoIP: Taichung, Taiwan * HiNet\n",
      "6 218.199.43.197 湖北武汉 湖北省武汉市 中国地质大学武汉校区 * GeoIP: Wuhan, Hubei, China * China Education and Research Network Center\n",
      "7 117.136.41.50 广东广州 广东省 移动 * GeoIP: Guangzhou, Guangdong, China * China Mobile\n",
      "8 117.136.41.50 广东广州 广东省 移动 * GeoIP: Guangzhou, Guangdong, China * China Mobile\n",
      "9 218.199.43.197 湖北武汉 湖北省武汉市 中国地质大学武汉校区 * GeoIP: Wuhan, Hubei, China * China Education and Research Network Center\n",
      "10 223.104.63.90 广东 广东省深圳市 移动 * GeoIP: Guangzhou, Guangdong, China * China Mobile\n",
      "11 62.56.251.124 乌干达 英国  * GeoIP: Uganda * Gilat Satcom\n"
     ]
    }
   ],
   "source": [
    "%timeit\n",
    "# 耗时 Wall time: 36 s\n",
    "import requests\n",
    "from lxml import etree\n",
    "import time\n",
    "import random\n",
    "def ip2loc(ip):\n",
    "    url = 'https://ip.cn/index.php?ip={}'.format(ip)\n",
    "    text = requests.get(url).text\n",
    "    html = etree.HTML(text)\n",
    "    try:\n",
    "        loc = html.xpath('//div[@id=\"result\"]/div/p[2]/code/text()')[0]\n",
    "    except:loc=''\n",
    "    try:\n",
    "        geo_ip = html.xpath('//div[@id=\"result\"]/div/p[3]/text()')[0]\n",
    "    except:geo_ip=''\n",
    "    try:\n",
    "        tele = html.xpath('//div[@id=\"result\"]/div/p[4]/text()')[0]\n",
    "    except:tele=''\n",
    "    return loc+' * '+geo_ip+' * '+tele\n",
    "\n",
    "for num,cmnt in enumerate(cmntlist):\n",
    "    ip_loc = ip2loc(cmnt['ip'])\n",
    "    print(num, cmnt['ip'], cmnt['area'], ip_loc)\n",
    "    if num%5==0:\n",
    "        time.sleep(random.randint(0,2))\n",
    "    if num==11:break"
   ]
  },
  {
   "cell_type": "code",
   "execution_count": 14,
   "metadata": {
    "collapsed": false
   },
   "outputs": [
    {
     "name": "stdout",
     "output_type": "stream",
     "text": [
      "1 1 2018-08-22 00:25:56 这辈子不会放过西西 打从心底瞧不起 这比抵制还不如！沒文化唄 福建厦门\n",
      "2 1 2018-08-21 17:01:42 双面H 回复 @半月kodachi:hhhhhhhh 湖北武汉\n",
      "3 1 2018-08-21 15:28:47 塞上陶然哥 抵制了吗？用脑还是用脚想的？ 宁夏银川\n",
      "4 1 2018-08-21 14:20:25 半月kodachi 幼稚。 广东广州\n",
      "5 1 2018-08-21 13:00:27 这辈子不会放过西西 反正全世界抵制中国产品 你骄傲啥？ 台湾台中\n",
      "6 1 2018-08-21 12:58:52 这辈子不会放过西西 沒必要！ 分化的那么严重 还说咱两一国？难怪各国等看戏 台湾台中\n",
      "7 1 2018-08-21 10:57:23 双面H 回复 @半月kodachi:你这算是自言自语吧，对自己认识得挺清楚。 湖北武汉\n",
      "8 1 2018-08-21 10:46:42 半月kodachi 没人在乎你，即使你假装自己和别人不一样。但是你年轻，思想不成型。幼稚。 广东广州\n",
      "9 1 2018-08-21 10:40:05 半月kodachi 饿 广东广州\n",
      "10 1 2018-08-20 21:25:56 双面H 回复 @半月kodachi:那你蹦跶出来文不对题是干嘛？智商水平所致？那倒是说得通。 湖北武汉\n",
      "11 1 2018-08-20 19:58:08 半月kodachi 我不需要存在感。幼稚 广东\n",
      "12 1 2018-08-19 16:51:36 萝卜屌丝666 活该！我是不会再去买一分钱东西！ 乌干达\n",
      "13 1 2018-08-18 17:28:55 双面H 回复 @半月kodachi:我纯粹是因为距离远懒得跑。你又在秀什么存在感。 湖北武汉\n",
      "14 1 2018-08-18 16:22:18 弯的four向民 这个应该是说质量好，没有造假吧。 湖南娄底\n",
      "15 1 2018-08-18 14:46:28 白鲸一壹 坚决抵制 广东茂名\n",
      "16 1 2018-08-18 12:31:36 半月kodachi 这样也不能显出你突出，幼稚 广东广州\n",
      "17 1 2018-08-17 21:28:36 初见光景 那就等着关门吧 广东深圳\n",
      "18 1 2018-08-17 17:15:58 我是张小象 热烈欢迎蔡英文，就说明了它的立场。我们尊重每个人和企业的政治诉求，但不能你一边支持着台独，一边跑来大陆赚钱，不合适吧？ 天津\n",
      "19 1 2018-08-17 17:15:22 我是张小象 热烈欢迎蔡英文，就说明了它的立场。我们尊重每个人和企业的政治诉求，但不能你一边支持着台独，一边跑来大陆赚钱，台湾人都这么无耻吗？ 天津\n",
      "20 1 2018-08-17 16:49:39 用户6453322288 你是来搞笑的么。85℃什么时候在a股上市的？这都能扯上a股，还是你认为世界上的股市只有a股？ 福建\n",
      "21 2 2018-08-17 16:45:23 手机用户2381142071 昨天去看面包的，走到一看台独的店果断转身走人去别家，怕你赚了人民币。 四川成都\n",
      "22 2 2018-08-17 16:16:21 用户153****9423 脑子是个好东西，可惜你没有 浙江金华\n",
      "23 2 2018-08-17 15:57:00 被爱的山峰201522 这种企业就可以直接滚蛋[挖鼻屎][挖鼻屎][挖鼻屎] 江苏无锡\n",
      "24 2 2018-08-17 15:00:22 老七论股 你好朋友，也在炒股？ 陕西西安\n",
      "25 2 2018-08-17 11:58:46 ddk-hello 摄氏度是摄氏温标(C)的温度计量单位，用符号℃表示，是目前世界上使用较为广泛的一种温标。它最初是由瑞典天文学家安德斯·摄尔修斯于1742年提出的，其后历经改进。 摄氏度的含义是指在1标准大气压下，纯净的冰水混合物的温度为0度，水的沸点为100度，其间平均分为100份，每一等份为1度，记作1℃。 北京\n",
      "26 2 2018-08-17 10:55:40 碳酸饮料停不了 嗯嗯，满嘴都是你自己的国家是垃圾，快去给你的洋主人跪下吧。 四川自贡\n",
      "27 2 2018-08-17 10:46:47 呐丶花是偷来的 但是它有表明立场的机会！含糊不清那就是它不对了[吐]！ 广西\n",
      "28 2 2018-08-17 10:31:04 用户7hb4ew0oo3 正常接待才正常吧，同时其总部回应凸显了台独意识！ 广东广州\n",
      "29 2 2018-08-17 10:28:22 用户7hb4ew0oo3 不喝台独咖啡 广东广州\n",
      "30 2 2018-08-17 10:15:11 属于Sunny-涂涂的独家记忆 一方面想赚大陆的钱，又一方面又要支持台独，二面三刀！那我们是无法接受的 福建泉州\n",
      "31 2 2018-08-17 09:29:56 mike牛2005 台什么毒？人家什么时候是台毒了？领导来。当然要接待！ 上海\n",
      "32 2 2018-08-17 09:27:42 mike牛2005 很正常的一件事！搞成这样。本来没计划好。一看有网路炒作机会。马上说是计划好。年底选举又可以用来鼓动民粹了！ 上海\n",
      "33 2 2018-08-17 08:19:27 leo_xiawei 要抵制就抵制富士康，把他赶走，尽搞些小店 澳大利亚\n",
      "34 2 2018-08-17 08:08:54 双面H 这个店口味还行，不过短期内是不会再去了。当然并非出于爱国，只是比较懒不想跑[二哈][二哈][二哈] 湖北武汉\n",
      "35 2 2018-08-17 07:36:28 towall71 就在“85度C”在其大陆社交媒体上为自己辩解之时，其在台湾的总公司今日发布的一则声明，算是为这家在大陆颇具人气的甜点店点上了一曲“凉凉”…… “这是大陆分公司的个别作法，总公司对此不发表任何意见。“85度C”台湾总公司做出的这番表述，立场可以说是不言自明了。 安徽黄山\n",
      "36 2 2018-08-17 06:57:14 towall71 对，就是失职，失职地方多了去了 北京\n",
      "37 2 2018-08-17 05:33:42 用户132****7170 妙妙妙！一百度！滚 宁夏\n",
      "38 2 2018-08-17 02:44:17 ILBY- 哈哈哈，垃圾只会搞搞小企业！ 贵州贵阳\n",
      "39 2 2018-08-17 02:42:39 佛罗里达Derong 正確來說應該叫「實死」85度。 美国佛罗里达州\n",
      "40 2 2018-08-17 01:21:29 宝爸公寓 正确说法的可以咨询他们公司400，我只是说说这个经历的 上海\n",
      "41 3 2018-08-17 01:20:05 宝爸公寓 养家糊口，怎么办 上海\n",
      "42 3 2018-08-17 00:02:04 用户3608708951 世界之大无奇不有。你是长的人样，可大脑是Zhu的。 北京\n",
      "43 3 2018-08-16 23:59:18 马来中环江绿湿 大陆还不行？！你疯了吗？你们中国好听？ 广东深圳\n",
      "44 3 2018-08-16 23:44:32 Denzel李博 那正确的说法是什么 福建福州\n",
      "45 3 2018-08-16 23:32:46 弓长立竑 应该是你们中国吧。 江苏苏州\n",
      "46 3 2018-08-16 23:23:44 当见山高月更阔-王阳明 送你上去 江西南昌\n",
      "47 3 2018-08-16 23:18:54 一步到位1673697521 对赚大陆的钱支持台独的一律滚蛋 广东深圳\n",
      "48 3 2018-08-16 23:17:12 客居江城的冷娃 自己作死，别拦着！ 安徽芜湖\n",
      "49 3 2018-08-16 22:56:52 抽烟老兄 吃中国的饭砸中国的锅。应该就如对乐天一样，让它关门持续整改…… 河南\n",
      "50 3 2018-08-16 22:55:38 意乐成就悦 抵制八十五度C 上海\n",
      "51 3 2018-08-16 22:48:59 北京张鹏039 台湾同胞有时候在大陆不一定玩的转 北京\n",
      "52 3 2018-08-16 22:48:45 宝爸公寓 作为一名前85℃员工，现在能说，公司高层（台籍）在开会或者私下场合，一直宣传你们大陆，我们台湾。所以大家可想而知....... 上海\n",
      "53 3 2018-08-16 22:42:48 猎头小王哥 台独可以，全部滚出大陆。 上海\n",
      "54 3 2018-08-16 22:41:51 Never_Never_Land_ 求锤得锤 广东深圳\n",
      "55 3 2018-08-16 22:31:28 tiger团政委 这不叫抵制这叫装疯卖傻 江苏南京\n",
      "56 3 2018-08-16 22:25:04 芒果威格 台独快点爆炸[二哈] 湖北武汉\n",
      "57 3 2018-08-16 22:14:20 张小船洛夫司机 凉了，该。 北京\n",
      "58 3 2018-08-16 22:13:42 吻_加_抱 这种垃圾企业应该被从大陆，包括香港澳门，彻底驱逐出去。 上海\n",
      "59 3 2018-08-16 22:13:38 kdjwenzi 表现这么不好在大陆还开几百家分店，你的意思是我们官员失职对吗 山东济南\n",
      "60 3 2018-08-16 22:13:01 TV西米捞 人家可能怕说成F吧 福建\n",
      "61 4 2018-08-16 22:07:29 towall71 自己去搜这公司在台湾的表现，很容易 北京\n",
      "62 4 2018-08-16 21:58:15 赵宏博童鞋 所以说蔡小姐和85度c多大仇[doge]  非要让他破产？ 河南洛阳\n",
      "63 4 2018-08-16 21:56:33 朕要喝三鹿 下次去帮衬一下 江西南昌\n",
      "64 4 2018-08-16 21:52:31 心如止水78889 坚决抵制 山东滨州\n",
      "65 4 2018-08-16 21:50:54 dickman139 C:闽南话艹 江苏镇江\n",
      "66 4 2018-08-16 21:49:12 Slowlymotion2018 如果只是随机买东西倒还好。人家官方都说了，为了维安，行程是安排好的，送个抱枕再签个名啥的。 上海\n",
      "67 4 2018-08-16 21:48:33 kdjwenzi 这家店真是倒了霉了 山东济南\n",
      "68 4 2018-08-16 21:47:42 河出图洛出书 两面🐶，早点死掉[挖鼻] 河南洛阳\n",
      "69 4 2018-08-16 21:47:09 爱吃地瓜的小辣椒 蔡小姐的发言人已经说了不是临时起意去的，是有计划去的。这刀捅的好啊，怕他凉得太慢啊。 浙江丽水\n",
      "70 4 2018-08-16 21:45:35 细水黄昏 85度就85度，为什么加个C 山东日照\n",
      "71 4 2018-08-16 21:45:23 TV西米捞 迟早破产~~~ 福建\n",
      "72 4 2018-08-16 21:45:03 卡拉是只_Miao 活该 安徽合肥\n",
      "73 4 2018-08-16 21:43:43 Sandra7181 这是要没？ 北京\n",
      "74 4 2018-08-16 21:43:40 爱佛楼 现实与理想其实都很残酷😄 加拿大艾伯塔\n",
      "75 4 2018-08-16 21:43:12 kdjwenzi 开门做生意，你有选择客人的权利吗，由其在美国回被告歧视的。老蔡是不讨人喜欢，但这店家是真的冤。 山东济南\n",
      "76 4 2018-08-16 21:42:45 晨熙ChengYang 呵呵，还是有很多人买 福建福州\n",
      "77 4 2018-08-16 21:41:54 RT-SKY 在大陆被下架、在台湾被爆偷漏税[吃瓜] 湖南湘潭\n",
      "78 4 2018-08-16 21:40:51 RT-SKY 大陆被下架、台湾被爆偷漏税[吃瓜] 湖南湘潭\n",
      "79 4 2018-08-16 21:39:49 做人一定要厚脸皮 该死 浙江\n",
      "80 4 2018-08-16 21:36:41 kdjwenzi 蔡小姐就顺路买了杯咖啡签了个名，至于么。 山东济南\n",
      "81 5 2018-08-16 21:17:20 nxzhm1205 看着不爽不会买 福建泉州\n",
      "82 5 2018-08-16 21:16:46 无心睡眠4700 滚回去！！！！滚！ 上海\n",
      "83 5 2018-08-16 19:31:23 Nikimi2046 -美国对台军售了解下去-拿着iPhone手机搁装爱国抵制N啊！肯德基麦当劳可口可乐英特尔你TM抵制去呀？萨德还记得吗？去看下现在的韩国乐天免税店店全TM中国人- 上海\n",
      "84 5 2018-08-16 19:22:39 绅士De表演 继续加把劲，向百分二十冲刺！ 浙江嘉兴\n",
      "85 5 2018-08-16 19:20:48 绅士De表演 我也想表扬你，好样得[允悲][允悲] 浙江嘉兴\n",
      "86 5 2018-08-16 19:06:16 陳一蒓 冷静想想...难免有台湾人在各地85度C，其中也不乏台独...台独正借此煽动两岸情绪，不要正中其下怀了...冷静看后续吧 浙江金华\n",
      "87 5 2018-08-16 19:05:18 可爱的电电 滚出中国大陆，一边挣钱一边台独！滚！台杂！要台独滚出台湾土地。 江苏无锡\n",
      "88 5 2018-08-16 18:41:42 心路3865 继续让大众知道！它的股票还要跌！ 广东广州\n",
      "89 5 2018-08-16 18:09:41 强Z蜀黍 只要是台独嫌疑就要抵制 广东东莞\n",
      "90 5 2018-08-16 18:04:33 一路向北的西瓜 有点骨气就滚回去！ 北京\n",
      "91 5 2018-08-16 17:58:50 胡汉三之重出江湖 理他们干嘛，一边嘴巴说政治归政治，经济归经济，只有涉及你们利益的时候要分的这么清，那你为什么不尊重我们，最厌烦的就是这帮子台巴子，。 浙江绍兴\n",
      "92 5 2018-08-16 17:38:29 一路向北的西瓜 让他滚回去！ 浙江台州\n",
      "93 5 2018-08-16 17:36:51 BeechTse 64%？卧槽。 西班牙\n",
      "94 5 2018-08-16 17:30:51 用户6272643314 跌到破产吧 广东深圳\n",
      "95 5 2018-08-16 17:29:54 小丢驾到 85度c以前和三鹿奶粉也有瓜葛，大家一起对抗害人害国的85度c让85度c滚出祖国大陆………… 广西\n",
      "96 5 2018-08-16 17:23:42 阿森小小资 淘宝都把它给下了。。。 江苏淮安\n",
      "97 5 2018-08-16 17:17:03 李Lili先生 台独滚 山东青岛\n",
      "98 5 2018-08-16 17:11:02 Memory1505 可以凉凉了 四川\n",
      "99 5 2018-08-16 17:06:50 菲菲_fifi- 所以，我们也要说到做到，不消费不够买，请他回湾湾。 江苏南京\n",
      "100 5 2018-08-16 17:04:32 班得威banban 呦呦呦，85C在台湾的店号称“所有材料均不适用中国制造”，意思就是说：“我85C的材料都是台湾本地的，不是中国制造的”，这么猖狂的分裂言论，不让它倒闭天理何在呢？ 广东深圳\n",
      "101 6 2018-08-16 17:02:21 原版葱葱 中国大陆市场占85度C营收比重约64%，这还敢还去捧阿菜。真是傻缺。 广东广州\n",
      "102 6 2018-08-16 16:59:29 亚军同学 我给她加15度 让他赶快滚 日本\n",
      "103 6 2018-08-16 16:58:48 兔小小兔 该 江苏南京\n",
      "104 6 2018-08-16 16:52:58 游走网络的人 大骨官方也该走就行了，85度C最大的问题是为食安问题严查一下停业整顿一下。什么时候整顿好在开业，消费者的身体健康最重要。 山东青岛\n",
      "105 6 2018-08-16 16:50:30 内涵美女 台独要坚决打击，不留余地。 湖北武汉\n",
      "106 6 2018-08-16 16:48:26 Crazy_疯头火势 加多15度~~滚~ 广东佛山\n",
      "107 6 2018-08-16 16:44:37 臭曦曦的麻麻 从此不会再买 上海\n",
      "108 6 2018-08-16 16:27:35 其实我是农民 必须死 上海\n",
      "109 6 2018-08-16 16:25:05 杨小西的爸爸 滚呗，这还说啥 内蒙古锡林郭勒盟\n",
      "110 6 2018-08-16 15:57:13 向往生活联盟 为何不直接封了他，大陆好多这些店。 内蒙古呼和浩特\n",
      "111 6 2018-08-16 15:51:45 目睹了整個事件的焦小姐 加大力度[吃瓜] 四川成都\n",
      "112 6 2018-08-16 15:40:52 运动风少女 抵制台独企业，必须的！ 浙江杭州\n",
      "113 6 2018-08-16 15:37:20 xzxzxzxzxzxzzz 这件事热度太低了…… 湖北武汉\n",
      "114 6 2018-08-16 15:30:18 kissy慢半怕 让他继续跌 蛋糕也不好吃 福建福州\n",
      "115 6 2018-08-16 15:20:38 BINGHE05050299 让他滚蛋 山东青岛\n",
      "116 6 2018-08-16 15:14:09 风风语语 继续加油抵制！ 四川成都\n",
      "117 6 2018-08-16 15:10:40 壹秒_遇见 重来不觉得好吃 美国加利福尼亚州\n",
      "118 6 2018-08-16 15:06:54 红色未来10000 比较理性的话，应该跌64%，大陆市场按零算就可以了。 北京\n",
      "119 6 2018-08-16 15:05:30 聪坚 正义犹如一把大剑，压的你死死的[doge] 江苏常州\n",
      "120 6 2018-08-16 15:05:17 无法忠诚的职场 我们不要太没有骨气！抗美，美国货依然横行，抗日，日本货依然畅销！现在是出了家贼，怎么的也得让85度凉了！！不喝他们家的咖啡你又不会死！ 河南郑州\n",
      "121 7 2018-08-16 14:51:27 oo49551 给他说声拜拜吧！ 江苏苏州\n",
      "122 7 2018-08-16 14:45:29 龍主任香港代購 怕是一段时间后又没事了  我们真的能做到？一起努力  让外面的人知道  我们中国人不是好欺负 不能在没血性 广东深圳\n",
      "123 7 2018-08-16 14:44:44 行动胜过言辞 再也不会去了 新疆乌鲁木齐\n",
      "124 7 2018-08-16 14:40:05 枝棱 楼上一位网友说：除了85℃，他们旗下还有好多品牌，比如  享甜 河南郑州\n",
      "125 7 2018-08-16 14:36:23 设计师张东新 哦哦，大家一致团结起来 上海\n",
      "126 7 2018-08-16 14:33:56 山竹小姐 那你就等着被饿死吧  你们这些人天天吃饱了没事干 多关心关心贫困区儿童吧[微笑] 上海\n",
      "127 7 2018-08-16 14:28:44 塞上陶然哥 典型的赚大陆的钱支持台独，坚决清出大陆市场！ 宁夏银川\n",
      "128 7 2018-08-16 14:26:11 小毛驴123321zy 又要搞台独，又想跑到大陆来赚钱 四川成都\n",
      "129 7 2018-08-16 14:16:26 喜沐晨风 台独的支持者滚出大陆市场吧！别在这挂羊头卖狗肉了。 广东广州\n",
      "130 7 2018-08-16 14:16:24 TONY775_3c3 [赞][鼓掌][good] 广东深圳\n",
      "131 7 2018-08-16 14:10:12 蘇本當 一天只能跌10%，你想跌多少 广西南宁\n",
      "132 7 2018-08-16 14:08:25 用户880114123456 这个不是应该读作85摄氏度吗？ 广东深圳\n",
      "133 7 2018-08-16 14:07:35 格卢比 让他赶快滚 浙江\n",
      "134 7 2018-08-16 14:05:43 游荡在16楼 对台独潜在支持者就要当台独分子一样制裁，祖国的每寸土地必须留在中国人民的手里！ 江苏苏州\n",
      "135 7 2018-08-16 14:03:42 风吹尿飘扬 滚出中国 江苏苏州\n",
      "136 7 2018-08-16 13:59:12 饭团魔法师 除了85℃，他们旗下还有好多品牌，比如享甜 山东济南\n",
      "137 7 2018-08-16 13:56:52 爱划船的青蛙 股票涨跌跟买不买又没关系。一家公司盈利能力强劲且外部环境支持其自身发展的话股价自然会高。反之股价就会变低。对这公司也一样，大陆集体抵制，不买它的产品，没有盈利点在大陆500多家门店就成了纯成本，股价自然要跌。 天津\n",
      "138 7 2018-08-16 13:56:22 Psycho酱 又贵又不好吃，早就换口味了 上海\n",
      "139 7 2018-08-16 13:54:03 小丢驾到 我吃垃圾，饿死也不会吃什么85度还是90度的c还是B的，快滚吧，明天继续跌，最好全倒闭 广西\n",
      "140 7 2018-08-16 13:52:58 瘦人37171 基本再见 福建福州\n",
      "141 8 2018-08-16 13:52:11 人境远地 既然如此，更不能让那些给台独站台的股票一路高歌啊。。。 上海\n",
      "142 8 2018-08-16 13:51:29 小鱼去哪啦 我是饿了么客服 刚才还特地有客户仅限表扬表扬平台 我一脸蒙蔽  之后才看到这个微博 北京\n",
      "143 8 2018-08-16 13:51:23 黑熊Plus 摄氏度℃符合打不出来嘛？…[允悲] 湖北武汉\n",
      "144 8 2018-08-16 13:50:39 光影穿梭   台独企业，就应该抵制！ 浙江杭州\n",
      "145 8 2018-08-16 13:50:24 蔡伟民CWM 挺好 广东\n",
      "146 8 2018-08-16 13:50:08 人境远地 既然85C那么喜欢台独，它大概很明白，那些台独的狂热分子就足以支撑它的业绩了。靠大陆？洗洗睡去吧。 上海\n",
      "147 8 2018-08-16 13:49:33 微风清风大台风 85度C台独企业赶快滚蛋 重庆\n",
      "148 8 2018-08-16 13:48:18 用户5936279386 ， 河南信阳\n",
      "149 8 2018-08-16 13:46:03 富安场 活该 四川成都\n",
      "150 8 2018-08-16 13:45:49 昊宸6084157135 有，我就是在腾讯上看到才跑来微博 福建泉州\n",
      "151 8 2018-08-16 13:45:07 街道办张主任 说句不该说的，a股里创新低的股票到处都是啊，就今天。[摊手] 北京\n",
      "152 8 2018-08-16 13:43:20 沈家AA no作no die why you try[摊手] 北京\n",
      "153 8 2018-08-16 13:43:12 酒瓶里的小蚂蚁 跌的漂亮，我看你还能狂多久，钱在我的口袋里，我就是不吃你家产品！ 上海\n",
      "154 8 2018-08-16 13:41:16 小小小黑蚁 滚蛋，一个就知道甩锅的公司，两面三刀，立场不坚定，不支持92共识你不要在大陆营业了。 广东云浮\n",
      "155 8 2018-08-16 13:41:08 Joesasa小张哥 凉凉的零下85度C...[阴险][拜拜] 上海\n",
      "156 8 2018-08-16 13:40:36 烽火狼骑 再加15度，滚 浙江温州\n",
      "157 8 2018-08-16 13:40:33 设计师张东新 在腾讯上我怎么一点也没看到关于85度C的新闻和报道，大家有看到吗？ 上海\n",
      "158 8 2018-08-16 13:40:25 危机重重2018 最不缺的就是卖面包的 上海\n",
      "159 8 2018-08-16 13:40:20 万事缄默不语 也没跌多少 印度尼西亚西爪哇省\n",
      "160 8 2018-08-16 13:39:21 大磊_时间的朋友 呵呵 上海\n",
      "161 9 2018-08-16 13:38:42 梓铭chuang 面对台独，必须抵制。[怒][加油][加油][加油] 北京\n",
      "162 9 2018-08-16 13:38:42 肥波球胖可丁 希望连续跌停365天～反正我不买股票[摊手] 福建泉州\n",
      "163 9 2018-08-16 13:38:34 小丢驾到 蔡英文以85度c台企为荣的企业这次在大陆应该活不长了，85度c在大陆一共有550多家分店，现在在大陆各个外卖平台全部被下架，500多家等着关门倒闭吧，别小看我们华人，华人实力布满全球 广西\n",
      "164 9 2018-08-16 13:38:31 风雪乐山 给它加15度 滚[doge] 浙江温州\n",
      "165 9 2018-08-16 13:37:01 赵众_ 应该把它从大陆赶出去 江苏苏州\n",
      "166 9 2018-08-16 13:36:37 赵众_ 从此不会再买 江苏苏州\n",
      "167 9 2018-08-16 13:35:48 陈大大鹏cw 活该！ 江苏南京\n",
      "Done:Sina_Finance_Comments_85C_20180823\n"
     ]
    }
   ],
   "source": [
    "%timeit\n",
    "import time\n",
    "import random\n",
    "# \n",
    "sinanews_comments = pd.DataFrame(columns = ['No','page','nick','time','content','area',\n",
    "                                            'ip','length','against','agree', 'channel', \n",
    "                                            'hot', 'level', 'login_type', 'media_type', 'mid'])\n",
    "page=1\n",
    "for num,cmnt in enumerate(cmntlist):\n",
    "    nick = cmnt['nick'] \n",
    "    times = cmnt['time'] #命名成 time 会和下面 time.sleep() 冲突 # 所以命名成 times\n",
    "    content = cmnt['content']\n",
    "    area = cmnt['area']\n",
    "    ip = cmnt['ip']\n",
    "    #ip_loc = ip2loc(cmnt['ip'])\n",
    "    length = cmnt['length']\n",
    "    against = cmnt['against']\n",
    "    agree = cmnt['agree']\n",
    "    channel = cmnt['channel']\n",
    "    hot = cmnt['hot']\n",
    "    level = cmnt['level']\n",
    "    login_type = cmnt['login_type']\n",
    "    media_type = cmnt['media_type']\n",
    "    mid = cmnt['mid']\n",
    "    print(num+1,page,times,nick,content,area)        \n",
    "    sinanews_comments = sinanews_comments.append({'No':num+1,'page':page,'nick':nick,'time':times,'content':content,'area':area,\n",
    "                                                  'ip':ip,'length':length,'against':against,'agree':agree,\n",
    "                                                  'channel':channel,'hot':hot,'level':level,'login_type':login_type,\n",
    "                                                  'media_type':media_type,'mid':mid},ignore_index=True)\n",
    "    if num%30 == 0:\n",
    "        time.sleep(random.randint(0,1))\n",
    "    if int((num+1)%20) == 0:\n",
    "        page += 1\n",
    "sinanews_comments.to_csv(root_name+'_ALL.csv', encoding='utf-8', line_terminator='\\r\\n')\n",
    "\n",
    "print('Done:'+root_name+'_ALL.csv')"
   ]
  },
  {
   "cell_type": "code",
   "execution_count": null,
   "metadata": {
    "collapsed": true
   },
   "outputs": [],
   "source": []
  }
 ],
 "metadata": {
  "anaconda-cloud": {},
  "kernelspec": {
   "display_name": "Python [python36]",
   "language": "python",
   "name": "Python [python36]"
  },
  "language_info": {
   "codemirror_mode": {
    "name": "ipython",
    "version": 3
   },
   "file_extension": ".py",
   "mimetype": "text/x-python",
   "name": "python",
   "nbconvert_exporter": "python",
   "pygments_lexer": "ipython3",
   "version": "3.6.4"
  }
 },
 "nbformat": 4,
 "nbformat_minor": 0
}
